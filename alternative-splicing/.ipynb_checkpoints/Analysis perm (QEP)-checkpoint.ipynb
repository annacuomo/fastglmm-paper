version https://git-lfs.github.com/spec/v1
oid sha256:31d87245ea69875a09cc46ac10decbbc18ba32fc71b38d8fa2c6d954a284b5d8
size 15885
