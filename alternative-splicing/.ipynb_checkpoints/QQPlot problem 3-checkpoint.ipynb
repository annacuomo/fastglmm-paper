{
 "cells": [
  {
   "cell_type": "code",
   "execution_count": 1,
   "metadata": {
    "collapsed": true
   },
   "outputs": [],
   "source": [
    "import pandas as pd\n",
    "import numpy as np"
   ]
  },
  {
   "cell_type": "code",
   "execution_count": 33,
   "metadata": {
    "collapsed": false
   },
   "outputs": [
    {
     "data": {
      "text/html": [
       "<div>\n",
       "<table border=\"1\" class=\"dataframe\">\n",
       "  <thead>\n",
       "    <tr style=\"text-align: right;\">\n",
       "      <th></th>\n",
       "      <th></th>\n",
       "      <th>chrom</th>\n",
       "      <th>lmm-pval</th>\n",
       "      <th>lmm-rank-pval</th>\n",
       "      <th>pos</th>\n",
       "      <th>qep-pval</th>\n",
       "      <th>snp_id</th>\n",
       "    </tr>\n",
       "    <tr>\n",
       "      <th>gene</th>\n",
       "      <th>intron</th>\n",
       "      <th></th>\n",
       "      <th></th>\n",
       "      <th></th>\n",
       "      <th></th>\n",
       "      <th></th>\n",
       "      <th></th>\n",
       "    </tr>\n",
       "  </thead>\n",
       "  <tbody>\n",
       "    <tr>\n",
       "      <th rowspan=\"5\" valign=\"top\">ENSG00000000419</th>\n",
       "      <th>5</th>\n",
       "      <td>20</td>\n",
       "      <td>0.477324</td>\n",
       "      <td>0.406138</td>\n",
       "      <td>42131442</td>\n",
       "      <td>0.386107</td>\n",
       "      <td>snp_19_42131442</td>\n",
       "    </tr>\n",
       "    <tr>\n",
       "      <th>5</th>\n",
       "      <td>20</td>\n",
       "      <td>0.039244</td>\n",
       "      <td>0.014254</td>\n",
       "      <td>42131753</td>\n",
       "      <td>0.009565</td>\n",
       "      <td>indel:1I_19_42131753</td>\n",
       "    </tr>\n",
       "    <tr>\n",
       "      <th>5</th>\n",
       "      <td>20</td>\n",
       "      <td>0.573356</td>\n",
       "      <td>0.590113</td>\n",
       "      <td>42132193</td>\n",
       "      <td>0.654554</td>\n",
       "      <td>snp_19_42132193</td>\n",
       "    </tr>\n",
       "    <tr>\n",
       "      <th>5</th>\n",
       "      <td>20</td>\n",
       "      <td>0.825621</td>\n",
       "      <td>0.945350</td>\n",
       "      <td>42132273</td>\n",
       "      <td>0.963257</td>\n",
       "      <td>snp_19_42132273</td>\n",
       "    </tr>\n",
       "    <tr>\n",
       "      <th>5</th>\n",
       "      <td>20</td>\n",
       "      <td>0.910330</td>\n",
       "      <td>0.857315</td>\n",
       "      <td>42132314</td>\n",
       "      <td>0.891363</td>\n",
       "      <td>snp_19_42132314</td>\n",
       "    </tr>\n",
       "  </tbody>\n",
       "</table>\n",
       "</div>"
      ],
      "text/plain": [
       "                        chrom  lmm-pval  lmm-rank-pval       pos  qep-pval  \\\n",
       "gene            intron                                                       \n",
       "ENSG00000000419 5          20  0.477324       0.406138  42131442  0.386107   \n",
       "                5          20  0.039244       0.014254  42131753  0.009565   \n",
       "                5          20  0.573356       0.590113  42132193  0.654554   \n",
       "                5          20  0.825621       0.945350  42132273  0.963257   \n",
       "                5          20  0.910330       0.857315  42132314  0.891363   \n",
       "\n",
       "                                      snp_id  \n",
       "gene            intron                        \n",
       "ENSG00000000419 5            snp_19_42131442  \n",
       "                5       indel:1I_19_42131753  \n",
       "                5            snp_19_42132193  \n",
       "                5            snp_19_42132273  \n",
       "                5            snp_19_42132314  "
      ]
     },
     "execution_count": 33,
     "metadata": {},
     "output_type": "execute_result"
    }
   ],
   "source": [
    "df = pd.read_pickle('chrom_null.pkl')\n",
    "df.set_index(['gene', 'intron'], inplace=True)\n",
    "df.sort_index(inplace=True)\n",
    "df.head()"
   ]
  },
  {
   "cell_type": "code",
   "execution_count": 35,
   "metadata": {
    "collapsed": false
   },
   "outputs": [
    {
     "data": {
      "text/html": [
       "<div>\n",
       "<table border=\"1\" class=\"dataframe\">\n",
       "  <thead>\n",
       "    <tr style=\"text-align: right;\">\n",
       "      <th></th>\n",
       "      <th></th>\n",
       "      <th></th>\n",
       "      <th>index</th>\n",
       "      <th>chrom</th>\n",
       "      <th>lmm-pval</th>\n",
       "      <th>lmm-rank-pval</th>\n",
       "      <th>pos</th>\n",
       "      <th>qep-pval</th>\n",
       "    </tr>\n",
       "    <tr>\n",
       "      <th>gene</th>\n",
       "      <th>intron</th>\n",
       "      <th>snp_id</th>\n",
       "      <th></th>\n",
       "      <th></th>\n",
       "      <th></th>\n",
       "      <th></th>\n",
       "      <th></th>\n",
       "      <th></th>\n",
       "    </tr>\n",
       "  </thead>\n",
       "  <tbody>\n",
       "    <tr>\n",
       "      <th rowspan=\"5\" valign=\"top\">ENSG00000000419</th>\n",
       "      <th rowspan=\"5\" valign=\"top\">5</th>\n",
       "      <th>snp_19_42131442</th>\n",
       "      <td>0</td>\n",
       "      <td>20</td>\n",
       "      <td>0.477324</td>\n",
       "      <td>0.406138</td>\n",
       "      <td>42131442</td>\n",
       "      <td>0.386107</td>\n",
       "    </tr>\n",
       "    <tr>\n",
       "      <th>indel:1I_19_42131753</th>\n",
       "      <td>1</td>\n",
       "      <td>20</td>\n",
       "      <td>0.039244</td>\n",
       "      <td>0.014254</td>\n",
       "      <td>42131753</td>\n",
       "      <td>0.009565</td>\n",
       "    </tr>\n",
       "    <tr>\n",
       "      <th>snp_19_42132193</th>\n",
       "      <td>2</td>\n",
       "      <td>20</td>\n",
       "      <td>0.573356</td>\n",
       "      <td>0.590113</td>\n",
       "      <td>42132193</td>\n",
       "      <td>0.654554</td>\n",
       "    </tr>\n",
       "    <tr>\n",
       "      <th>snp_19_42132273</th>\n",
       "      <td>3</td>\n",
       "      <td>20</td>\n",
       "      <td>0.825621</td>\n",
       "      <td>0.945350</td>\n",
       "      <td>42132273</td>\n",
       "      <td>0.963257</td>\n",
       "    </tr>\n",
       "    <tr>\n",
       "      <th>snp_19_42132314</th>\n",
       "      <td>4</td>\n",
       "      <td>20</td>\n",
       "      <td>0.910330</td>\n",
       "      <td>0.857315</td>\n",
       "      <td>42132314</td>\n",
       "      <td>0.891363</td>\n",
       "    </tr>\n",
       "  </tbody>\n",
       "</table>\n",
       "</div>"
      ],
      "text/plain": [
       "                                             index  chrom  lmm-pval  \\\n",
       "gene            intron snp_id                                         \n",
       "ENSG00000000419 5      snp_19_42131442           0     20  0.477324   \n",
       "                       indel:1I_19_42131753      1     20  0.039244   \n",
       "                       snp_19_42132193           2     20  0.573356   \n",
       "                       snp_19_42132273           3     20  0.825621   \n",
       "                       snp_19_42132314           4     20  0.910330   \n",
       "\n",
       "                                             lmm-rank-pval       pos  qep-pval  \n",
       "gene            intron snp_id                                                   \n",
       "ENSG00000000419 5      snp_19_42131442            0.406138  42131442  0.386107  \n",
       "                       indel:1I_19_42131753       0.014254  42131753  0.009565  \n",
       "                       snp_19_42132193            0.590113  42132193  0.654554  \n",
       "                       snp_19_42132273            0.945350  42132273  0.963257  \n",
       "                       snp_19_42132314            0.857315  42132314  0.891363  "
      ]
     },
     "execution_count": 35,
     "metadata": {},
     "output_type": "execute_result"
    }
   ],
   "source": [
    "df.reset_index(inplace=True)\n",
    "df.set_index(['gene', 'intron', 'snp_id'], inplace=True)\n",
    "df.head()"
   ]
  },
  {
   "cell_type": "code",
   "execution_count": 36,
   "metadata": {
    "collapsed": true
   },
   "outputs": [],
   "source": [
    "df.sort_index(inplace=True)"
   ]
  },
  {
   "cell_type": "code",
   "execution_count": 41,
   "metadata": {
    "collapsed": false
   },
   "outputs": [],
   "source": [
    "methods = ['lmm', 'lmm-rank', 'qep']\n",
    "\n",
    "DF = dict()\n",
    "for method in methods:\n",
    "    DF[method] = df[['%s-pval' % method, 'chrom', 'pos']].copy()"
   ]
  },
  {
   "cell_type": "code",
   "execution_count": 42,
   "metadata": {
    "collapsed": false
   },
   "outputs": [],
   "source": [
    "for method in methods:\n",
    "    DF[method]['p-value'] = DF[method]['%s-pval' % method]"
   ]
  },
  {
   "cell_type": "code",
   "execution_count": 44,
   "metadata": {
    "collapsed": false
   },
   "outputs": [],
   "source": [
    "for method in methods:\n",
    "    del DF[method]['%s-pval' % method]"
   ]
  },
  {
   "cell_type": "code",
   "execution_count": 47,
   "metadata": {
    "collapsed": false
   },
   "outputs": [],
   "source": [
    "for method in methods:\n",
    "    DF[method]['label'] = method\n",
    "    DF[method].reset_index(inplace=True)\n",
    "    DF[method].set_index(['gene', 'intron', 'snp_id', 'label'], inplace=True)\n",
    "    DF[method].sort_index(inplace=True)"
   ]
  },
  {
   "cell_type": "code",
   "execution_count": 50,
   "metadata": {
    "collapsed": false
   },
   "outputs": [],
   "source": [
    "for method in methods:\n",
    "    DF[method].reset_index(inplace=True)\n",
    "    DF[method][\"marker\"] = DF[method]['gene'].astype(str) + DF[method]['intron'].astype(str) + DF[method]['snp_id'].astype(str)"
   ]
  },
  {
   "cell_type": "code",
   "execution_count": 53,
   "metadata": {
    "collapsed": false
   },
   "outputs": [
    {
     "ename": "KeyError",
     "evalue": "'snp_id'",
     "output_type": "error",
     "traceback": [
      "\u001b[0;31m---------------------------------------------------------------------------\u001b[0m",
      "\u001b[0;31mKeyError\u001b[0m                                  Traceback (most recent call last)",
      "\u001b[0;32m/nfs/software/stegle/users/horta/conda-envs/default/lib/python3.5/site-packages/pandas/indexes/base.py\u001b[0m in \u001b[0;36mget_loc\u001b[0;34m(self, key, method, tolerance)\u001b[0m\n\u001b[1;32m   1944\u001b[0m             \u001b[0;32mtry\u001b[0m\u001b[0;34m:\u001b[0m\u001b[0;34m\u001b[0m\u001b[0m\n\u001b[0;32m-> 1945\u001b[0;31m                 \u001b[0;32mreturn\u001b[0m \u001b[0mself\u001b[0m\u001b[0;34m.\u001b[0m\u001b[0m_engine\u001b[0m\u001b[0;34m.\u001b[0m\u001b[0mget_loc\u001b[0m\u001b[0;34m(\u001b[0m\u001b[0mkey\u001b[0m\u001b[0;34m)\u001b[0m\u001b[0;34m\u001b[0m\u001b[0m\n\u001b[0m\u001b[1;32m   1946\u001b[0m             \u001b[0;32mexcept\u001b[0m \u001b[0mKeyError\u001b[0m\u001b[0;34m:\u001b[0m\u001b[0;34m\u001b[0m\u001b[0m\n",
      "\u001b[0;32mpandas/index.pyx\u001b[0m in \u001b[0;36mpandas.index.IndexEngine.get_loc (pandas/index.c:4154)\u001b[0;34m()\u001b[0m\n",
      "\u001b[0;32mpandas/index.pyx\u001b[0m in \u001b[0;36mpandas.index.IndexEngine.get_loc (pandas/index.c:4018)\u001b[0;34m()\u001b[0m\n",
      "\u001b[0;32mpandas/hashtable.pyx\u001b[0m in \u001b[0;36mpandas.hashtable.PyObjectHashTable.get_item (pandas/hashtable.c:12368)\u001b[0;34m()\u001b[0m\n",
      "\u001b[0;32mpandas/hashtable.pyx\u001b[0m in \u001b[0;36mpandas.hashtable.PyObjectHashTable.get_item (pandas/hashtable.c:12322)\u001b[0;34m()\u001b[0m\n",
      "\u001b[0;31mKeyError\u001b[0m: 'snp_id'",
      "\nDuring handling of the above exception, another exception occurred:\n",
      "\u001b[0;31mKeyError\u001b[0m                                  Traceback (most recent call last)",
      "\u001b[0;32m<ipython-input-53-a07452449998>\u001b[0m in \u001b[0;36m<module>\u001b[0;34m()\u001b[0m\n\u001b[1;32m      1\u001b[0m \u001b[0;32mfor\u001b[0m \u001b[0mmethod\u001b[0m \u001b[0;32min\u001b[0m \u001b[0mmethods\u001b[0m\u001b[0;34m:\u001b[0m\u001b[0;34m\u001b[0m\u001b[0m\n\u001b[1;32m      2\u001b[0m \u001b[0;31m#     del DF[method]['index']\u001b[0m\u001b[0;34m\u001b[0m\u001b[0;34m\u001b[0m\u001b[0m\n\u001b[0;32m----> 3\u001b[0;31m     \u001b[0;32mdel\u001b[0m \u001b[0mDF\u001b[0m\u001b[0;34m[\u001b[0m\u001b[0mmethod\u001b[0m\u001b[0;34m]\u001b[0m\u001b[0;34m[\u001b[0m\u001b[0;34m'snp_id'\u001b[0m\u001b[0;34m]\u001b[0m\u001b[0;34m\u001b[0m\u001b[0m\n\u001b[0m\u001b[1;32m      4\u001b[0m     \u001b[0;32mdel\u001b[0m \u001b[0mDF\u001b[0m\u001b[0;34m[\u001b[0m\u001b[0mmethod\u001b[0m\u001b[0;34m]\u001b[0m\u001b[0;34m[\u001b[0m\u001b[0;34m'chrom'\u001b[0m\u001b[0;34m]\u001b[0m\u001b[0;34m\u001b[0m\u001b[0m\n\u001b[1;32m      5\u001b[0m     \u001b[0;32mdel\u001b[0m \u001b[0mDF\u001b[0m\u001b[0;34m[\u001b[0m\u001b[0mmethod\u001b[0m\u001b[0;34m]\u001b[0m\u001b[0;34m[\u001b[0m\u001b[0;34m'pos'\u001b[0m\u001b[0;34m]\u001b[0m\u001b[0;34m\u001b[0m\u001b[0m\n",
      "\u001b[0;32m/nfs/software/stegle/users/horta/conda-envs/default/lib/python3.5/site-packages/pandas/core/generic.py\u001b[0m in \u001b[0;36m__delitem__\u001b[0;34m(self, key)\u001b[0m\n\u001b[1;32m   1604\u001b[0m             \u001b[0;31m# there was no match, this call should raise the appropriate\u001b[0m\u001b[0;34m\u001b[0m\u001b[0;34m\u001b[0m\u001b[0m\n\u001b[1;32m   1605\u001b[0m             \u001b[0;31m# exception:\u001b[0m\u001b[0;34m\u001b[0m\u001b[0;34m\u001b[0m\u001b[0m\n\u001b[0;32m-> 1606\u001b[0;31m             \u001b[0mself\u001b[0m\u001b[0;34m.\u001b[0m\u001b[0m_data\u001b[0m\u001b[0;34m.\u001b[0m\u001b[0mdelete\u001b[0m\u001b[0;34m(\u001b[0m\u001b[0mkey\u001b[0m\u001b[0;34m)\u001b[0m\u001b[0;34m\u001b[0m\u001b[0m\n\u001b[0m\u001b[1;32m   1607\u001b[0m \u001b[0;34m\u001b[0m\u001b[0m\n\u001b[1;32m   1608\u001b[0m         \u001b[0;31m# delete from the caches\u001b[0m\u001b[0;34m\u001b[0m\u001b[0;34m\u001b[0m\u001b[0m\n",
      "\u001b[0;32m/nfs/software/stegle/users/horta/conda-envs/default/lib/python3.5/site-packages/pandas/core/internals.py\u001b[0m in \u001b[0;36mdelete\u001b[0;34m(self, item)\u001b[0m\n\u001b[1;32m   3347\u001b[0m         \u001b[0mDelete\u001b[0m \u001b[0mselected\u001b[0m \u001b[0mitem\u001b[0m \u001b[0;34m(\u001b[0m\u001b[0mitems\u001b[0m \u001b[0;32mif\u001b[0m \u001b[0mnon\u001b[0m\u001b[0;34m-\u001b[0m\u001b[0munique\u001b[0m\u001b[0;34m)\u001b[0m \u001b[0;32min\u001b[0m\u001b[0;34m-\u001b[0m\u001b[0mplace\u001b[0m\u001b[0;34m.\u001b[0m\u001b[0;34m\u001b[0m\u001b[0m\n\u001b[1;32m   3348\u001b[0m         \"\"\"\n\u001b[0;32m-> 3349\u001b[0;31m         \u001b[0mindexer\u001b[0m \u001b[0;34m=\u001b[0m \u001b[0mself\u001b[0m\u001b[0;34m.\u001b[0m\u001b[0mitems\u001b[0m\u001b[0;34m.\u001b[0m\u001b[0mget_loc\u001b[0m\u001b[0;34m(\u001b[0m\u001b[0mitem\u001b[0m\u001b[0;34m)\u001b[0m\u001b[0;34m\u001b[0m\u001b[0m\n\u001b[0m\u001b[1;32m   3350\u001b[0m \u001b[0;34m\u001b[0m\u001b[0m\n\u001b[1;32m   3351\u001b[0m         \u001b[0mis_deleted\u001b[0m \u001b[0;34m=\u001b[0m \u001b[0mnp\u001b[0m\u001b[0;34m.\u001b[0m\u001b[0mzeros\u001b[0m\u001b[0;34m(\u001b[0m\u001b[0mself\u001b[0m\u001b[0;34m.\u001b[0m\u001b[0mshape\u001b[0m\u001b[0;34m[\u001b[0m\u001b[0;36m0\u001b[0m\u001b[0;34m]\u001b[0m\u001b[0;34m,\u001b[0m \u001b[0mdtype\u001b[0m\u001b[0;34m=\u001b[0m\u001b[0mnp\u001b[0m\u001b[0;34m.\u001b[0m\u001b[0mbool_\u001b[0m\u001b[0;34m)\u001b[0m\u001b[0;34m\u001b[0m\u001b[0m\n",
      "\u001b[0;32m/nfs/software/stegle/users/horta/conda-envs/default/lib/python3.5/site-packages/pandas/indexes/base.py\u001b[0m in \u001b[0;36mget_loc\u001b[0;34m(self, key, method, tolerance)\u001b[0m\n\u001b[1;32m   1945\u001b[0m                 \u001b[0;32mreturn\u001b[0m \u001b[0mself\u001b[0m\u001b[0;34m.\u001b[0m\u001b[0m_engine\u001b[0m\u001b[0;34m.\u001b[0m\u001b[0mget_loc\u001b[0m\u001b[0;34m(\u001b[0m\u001b[0mkey\u001b[0m\u001b[0;34m)\u001b[0m\u001b[0;34m\u001b[0m\u001b[0m\n\u001b[1;32m   1946\u001b[0m             \u001b[0;32mexcept\u001b[0m \u001b[0mKeyError\u001b[0m\u001b[0;34m:\u001b[0m\u001b[0;34m\u001b[0m\u001b[0m\n\u001b[0;32m-> 1947\u001b[0;31m                 \u001b[0;32mreturn\u001b[0m \u001b[0mself\u001b[0m\u001b[0;34m.\u001b[0m\u001b[0m_engine\u001b[0m\u001b[0;34m.\u001b[0m\u001b[0mget_loc\u001b[0m\u001b[0;34m(\u001b[0m\u001b[0mself\u001b[0m\u001b[0;34m.\u001b[0m\u001b[0m_maybe_cast_indexer\u001b[0m\u001b[0;34m(\u001b[0m\u001b[0mkey\u001b[0m\u001b[0;34m)\u001b[0m\u001b[0;34m)\u001b[0m\u001b[0;34m\u001b[0m\u001b[0m\n\u001b[0m\u001b[1;32m   1948\u001b[0m \u001b[0;34m\u001b[0m\u001b[0m\n\u001b[1;32m   1949\u001b[0m         \u001b[0mindexer\u001b[0m \u001b[0;34m=\u001b[0m \u001b[0mself\u001b[0m\u001b[0;34m.\u001b[0m\u001b[0mget_indexer\u001b[0m\u001b[0;34m(\u001b[0m\u001b[0;34m[\u001b[0m\u001b[0mkey\u001b[0m\u001b[0;34m]\u001b[0m\u001b[0;34m,\u001b[0m \u001b[0mmethod\u001b[0m\u001b[0;34m=\u001b[0m\u001b[0mmethod\u001b[0m\u001b[0;34m,\u001b[0m \u001b[0mtolerance\u001b[0m\u001b[0;34m=\u001b[0m\u001b[0mtolerance\u001b[0m\u001b[0;34m)\u001b[0m\u001b[0;34m\u001b[0m\u001b[0m\n",
      "\u001b[0;32mpandas/index.pyx\u001b[0m in \u001b[0;36mpandas.index.IndexEngine.get_loc (pandas/index.c:4154)\u001b[0;34m()\u001b[0m\n",
      "\u001b[0;32mpandas/index.pyx\u001b[0m in \u001b[0;36mpandas.index.IndexEngine.get_loc (pandas/index.c:4018)\u001b[0;34m()\u001b[0m\n",
      "\u001b[0;32mpandas/hashtable.pyx\u001b[0m in \u001b[0;36mpandas.hashtable.PyObjectHashTable.get_item (pandas/hashtable.c:12368)\u001b[0;34m()\u001b[0m\n",
      "\u001b[0;32mpandas/hashtable.pyx\u001b[0m in \u001b[0;36mpandas.hashtable.PyObjectHashTable.get_item (pandas/hashtable.c:12322)\u001b[0;34m()\u001b[0m\n",
      "\u001b[0;31mKeyError\u001b[0m: 'snp_id'"
     ]
    }
   ],
   "source": [
    "for method in methods:\n",
    "#     del DF[method]['index']\n",
    "    del DF[method]['snp_id']\n",
    "    del DF[method]['chrom']\n",
    "    del DF[method]['pos']"
   ]
  },
  {
   "cell_type": "code",
   "execution_count": 56,
   "metadata": {
    "collapsed": false
   },
   "outputs": [
    {
     "data": {
      "text/html": [
       "<div>\n",
       "<table border=\"1\" class=\"dataframe\">\n",
       "  <thead>\n",
       "    <tr style=\"text-align: right;\">\n",
       "      <th></th>\n",
       "      <th>gene</th>\n",
       "      <th>intron</th>\n",
       "      <th>label</th>\n",
       "      <th>p-value</th>\n",
       "      <th>marker</th>\n",
       "    </tr>\n",
       "  </thead>\n",
       "  <tbody>\n",
       "    <tr>\n",
       "      <th>0</th>\n",
       "      <td>ENSG00000000419</td>\n",
       "      <td>5</td>\n",
       "      <td>lmm</td>\n",
       "      <td>0.890446</td>\n",
       "      <td>ENSG000000004195indel:1D_19_42138740</td>\n",
       "    </tr>\n",
       "    <tr>\n",
       "      <th>1</th>\n",
       "      <td>ENSG00000000419</td>\n",
       "      <td>5</td>\n",
       "      <td>lmm</td>\n",
       "      <td>0.903899</td>\n",
       "      <td>ENSG000000004195indel:1D_19_42165671</td>\n",
       "    </tr>\n",
       "    <tr>\n",
       "      <th>2</th>\n",
       "      <td>ENSG00000000419</td>\n",
       "      <td>5</td>\n",
       "      <td>lmm</td>\n",
       "      <td>0.974254</td>\n",
       "      <td>ENSG000000004195indel:1D_19_42166488</td>\n",
       "    </tr>\n",
       "    <tr>\n",
       "      <th>3</th>\n",
       "      <td>ENSG00000000419</td>\n",
       "      <td>5</td>\n",
       "      <td>lmm</td>\n",
       "      <td>0.276557</td>\n",
       "      <td>ENSG000000004195indel:1D_19_42188032</td>\n",
       "    </tr>\n",
       "    <tr>\n",
       "      <th>4</th>\n",
       "      <td>ENSG00000000419</td>\n",
       "      <td>5</td>\n",
       "      <td>lmm</td>\n",
       "      <td>0.000505</td>\n",
       "      <td>ENSG000000004195indel:1D_19_42188103</td>\n",
       "    </tr>\n",
       "  </tbody>\n",
       "</table>\n",
       "</div>"
      ],
      "text/plain": [
       "              gene  intron label   p-value  \\\n",
       "0  ENSG00000000419       5   lmm  0.890446   \n",
       "1  ENSG00000000419       5   lmm  0.903899   \n",
       "2  ENSG00000000419       5   lmm  0.974254   \n",
       "3  ENSG00000000419       5   lmm  0.276557   \n",
       "4  ENSG00000000419       5   lmm  0.000505   \n",
       "\n",
       "                                 marker  \n",
       "0  ENSG000000004195indel:1D_19_42138740  \n",
       "1  ENSG000000004195indel:1D_19_42165671  \n",
       "2  ENSG000000004195indel:1D_19_42166488  \n",
       "3  ENSG000000004195indel:1D_19_42188032  \n",
       "4  ENSG000000004195indel:1D_19_42188103  "
      ]
     },
     "execution_count": 56,
     "metadata": {},
     "output_type": "execute_result"
    }
   ],
   "source": [
    "DF['lmm'].head()"
   ]
  },
  {
   "cell_type": "code",
   "execution_count": 57,
   "metadata": {
    "collapsed": false
   },
   "outputs": [
    {
     "data": {
      "text/html": [
       "<div>\n",
       "<table border=\"1\" class=\"dataframe\">\n",
       "  <thead>\n",
       "    <tr style=\"text-align: right;\">\n",
       "      <th></th>\n",
       "      <th>gene</th>\n",
       "      <th>intron</th>\n",
       "      <th>snp_id</th>\n",
       "      <th>label</th>\n",
       "      <th>chrom</th>\n",
       "      <th>pos</th>\n",
       "      <th>p-value</th>\n",
       "      <th>marker</th>\n",
       "    </tr>\n",
       "  </thead>\n",
       "  <tbody>\n",
       "    <tr>\n",
       "      <th>0</th>\n",
       "      <td>ENSG00000000419</td>\n",
       "      <td>5</td>\n",
       "      <td>indel:1D_19_42138740</td>\n",
       "      <td>lmm-rank</td>\n",
       "      <td>20</td>\n",
       "      <td>42138740</td>\n",
       "      <td>0.776334</td>\n",
       "      <td>ENSG000000004195indel:1D_19_42138740</td>\n",
       "    </tr>\n",
       "    <tr>\n",
       "      <th>1</th>\n",
       "      <td>ENSG00000000419</td>\n",
       "      <td>5</td>\n",
       "      <td>indel:1D_19_42165671</td>\n",
       "      <td>lmm-rank</td>\n",
       "      <td>20</td>\n",
       "      <td>42165671</td>\n",
       "      <td>0.884710</td>\n",
       "      <td>ENSG000000004195indel:1D_19_42165671</td>\n",
       "    </tr>\n",
       "    <tr>\n",
       "      <th>2</th>\n",
       "      <td>ENSG00000000419</td>\n",
       "      <td>5</td>\n",
       "      <td>indel:1D_19_42166488</td>\n",
       "      <td>lmm-rank</td>\n",
       "      <td>20</td>\n",
       "      <td>42166488</td>\n",
       "      <td>0.962723</td>\n",
       "      <td>ENSG000000004195indel:1D_19_42166488</td>\n",
       "    </tr>\n",
       "    <tr>\n",
       "      <th>3</th>\n",
       "      <td>ENSG00000000419</td>\n",
       "      <td>5</td>\n",
       "      <td>indel:1D_19_42188032</td>\n",
       "      <td>lmm-rank</td>\n",
       "      <td>20</td>\n",
       "      <td>42188032</td>\n",
       "      <td>0.389594</td>\n",
       "      <td>ENSG000000004195indel:1D_19_42188032</td>\n",
       "    </tr>\n",
       "    <tr>\n",
       "      <th>4</th>\n",
       "      <td>ENSG00000000419</td>\n",
       "      <td>5</td>\n",
       "      <td>indel:1D_19_42188103</td>\n",
       "      <td>lmm-rank</td>\n",
       "      <td>20</td>\n",
       "      <td>42188103</td>\n",
       "      <td>0.124509</td>\n",
       "      <td>ENSG000000004195indel:1D_19_42188103</td>\n",
       "    </tr>\n",
       "  </tbody>\n",
       "</table>\n",
       "</div>"
      ],
      "text/plain": [
       "              gene  intron                snp_id     label  chrom       pos  \\\n",
       "0  ENSG00000000419       5  indel:1D_19_42138740  lmm-rank     20  42138740   \n",
       "1  ENSG00000000419       5  indel:1D_19_42165671  lmm-rank     20  42165671   \n",
       "2  ENSG00000000419       5  indel:1D_19_42166488  lmm-rank     20  42166488   \n",
       "3  ENSG00000000419       5  indel:1D_19_42188032  lmm-rank     20  42188032   \n",
       "4  ENSG00000000419       5  indel:1D_19_42188103  lmm-rank     20  42188103   \n",
       "\n",
       "    p-value                                marker  \n",
       "0  0.776334  ENSG000000004195indel:1D_19_42138740  \n",
       "1  0.884710  ENSG000000004195indel:1D_19_42165671  \n",
       "2  0.962723  ENSG000000004195indel:1D_19_42166488  \n",
       "3  0.389594  ENSG000000004195indel:1D_19_42188032  \n",
       "4  0.124509  ENSG000000004195indel:1D_19_42188103  "
      ]
     },
     "execution_count": 57,
     "metadata": {},
     "output_type": "execute_result"
    }
   ],
   "source": [
    "DF['lmm-rank'].head()"
   ]
  },
  {
   "cell_type": "code",
   "execution_count": 58,
   "metadata": {
    "collapsed": true
   },
   "outputs": [],
   "source": [
    "method = 'lmm-rank'\n",
    "del DF[method]['snp_id']\n",
    "del DF[method]['chrom']\n",
    "del DF[method]['pos']"
   ]
  },
  {
   "cell_type": "code",
   "execution_count": 59,
   "metadata": {
    "collapsed": false
   },
   "outputs": [
    {
     "data": {
      "text/html": [
       "<div>\n",
       "<table border=\"1\" class=\"dataframe\">\n",
       "  <thead>\n",
       "    <tr style=\"text-align: right;\">\n",
       "      <th></th>\n",
       "      <th>gene</th>\n",
       "      <th>intron</th>\n",
       "      <th>label</th>\n",
       "      <th>p-value</th>\n",
       "      <th>marker</th>\n",
       "    </tr>\n",
       "  </thead>\n",
       "  <tbody>\n",
       "    <tr>\n",
       "      <th>0</th>\n",
       "      <td>ENSG00000000419</td>\n",
       "      <td>5</td>\n",
       "      <td>lmm-rank</td>\n",
       "      <td>0.776334</td>\n",
       "      <td>ENSG000000004195indel:1D_19_42138740</td>\n",
       "    </tr>\n",
       "    <tr>\n",
       "      <th>1</th>\n",
       "      <td>ENSG00000000419</td>\n",
       "      <td>5</td>\n",
       "      <td>lmm-rank</td>\n",
       "      <td>0.884710</td>\n",
       "      <td>ENSG000000004195indel:1D_19_42165671</td>\n",
       "    </tr>\n",
       "    <tr>\n",
       "      <th>2</th>\n",
       "      <td>ENSG00000000419</td>\n",
       "      <td>5</td>\n",
       "      <td>lmm-rank</td>\n",
       "      <td>0.962723</td>\n",
       "      <td>ENSG000000004195indel:1D_19_42166488</td>\n",
       "    </tr>\n",
       "    <tr>\n",
       "      <th>3</th>\n",
       "      <td>ENSG00000000419</td>\n",
       "      <td>5</td>\n",
       "      <td>lmm-rank</td>\n",
       "      <td>0.389594</td>\n",
       "      <td>ENSG000000004195indel:1D_19_42188032</td>\n",
       "    </tr>\n",
       "    <tr>\n",
       "      <th>4</th>\n",
       "      <td>ENSG00000000419</td>\n",
       "      <td>5</td>\n",
       "      <td>lmm-rank</td>\n",
       "      <td>0.124509</td>\n",
       "      <td>ENSG000000004195indel:1D_19_42188103</td>\n",
       "    </tr>\n",
       "  </tbody>\n",
       "</table>\n",
       "</div>"
      ],
      "text/plain": [
       "              gene  intron     label   p-value  \\\n",
       "0  ENSG00000000419       5  lmm-rank  0.776334   \n",
       "1  ENSG00000000419       5  lmm-rank  0.884710   \n",
       "2  ENSG00000000419       5  lmm-rank  0.962723   \n",
       "3  ENSG00000000419       5  lmm-rank  0.389594   \n",
       "4  ENSG00000000419       5  lmm-rank  0.124509   \n",
       "\n",
       "                                 marker  \n",
       "0  ENSG000000004195indel:1D_19_42138740  \n",
       "1  ENSG000000004195indel:1D_19_42165671  \n",
       "2  ENSG000000004195indel:1D_19_42166488  \n",
       "3  ENSG000000004195indel:1D_19_42188032  \n",
       "4  ENSG000000004195indel:1D_19_42188103  "
      ]
     },
     "execution_count": 59,
     "metadata": {},
     "output_type": "execute_result"
    }
   ],
   "source": [
    "DF['lmm-rank'].head()"
   ]
  },
  {
   "cell_type": "code",
   "execution_count": 60,
   "metadata": {
    "collapsed": true
   },
   "outputs": [],
   "source": [
    "method = 'qep'\n",
    "del DF[method]['snp_id']\n",
    "del DF[method]['chrom']\n",
    "del DF[method]['pos']"
   ]
  },
  {
   "cell_type": "code",
   "execution_count": 61,
   "metadata": {
    "collapsed": false
   },
   "outputs": [
    {
     "data": {
      "text/html": [
       "<div>\n",
       "<table border=\"1\" class=\"dataframe\">\n",
       "  <thead>\n",
       "    <tr style=\"text-align: right;\">\n",
       "      <th></th>\n",
       "      <th>gene</th>\n",
       "      <th>intron</th>\n",
       "      <th>label</th>\n",
       "      <th>p-value</th>\n",
       "      <th>marker</th>\n",
       "    </tr>\n",
       "  </thead>\n",
       "  <tbody>\n",
       "    <tr>\n",
       "      <th>0</th>\n",
       "      <td>ENSG00000000419</td>\n",
       "      <td>5</td>\n",
       "      <td>qep</td>\n",
       "      <td>0.681601</td>\n",
       "      <td>ENSG000000004195indel:1D_19_42138740</td>\n",
       "    </tr>\n",
       "    <tr>\n",
       "      <th>1</th>\n",
       "      <td>ENSG00000000419</td>\n",
       "      <td>5</td>\n",
       "      <td>qep</td>\n",
       "      <td>0.783540</td>\n",
       "      <td>ENSG000000004195indel:1D_19_42165671</td>\n",
       "    </tr>\n",
       "    <tr>\n",
       "      <th>2</th>\n",
       "      <td>ENSG00000000419</td>\n",
       "      <td>5</td>\n",
       "      <td>qep</td>\n",
       "      <td>0.853694</td>\n",
       "      <td>ENSG000000004195indel:1D_19_42166488</td>\n",
       "    </tr>\n",
       "    <tr>\n",
       "      <th>3</th>\n",
       "      <td>ENSG00000000419</td>\n",
       "      <td>5</td>\n",
       "      <td>qep</td>\n",
       "      <td>0.435262</td>\n",
       "      <td>ENSG000000004195indel:1D_19_42188032</td>\n",
       "    </tr>\n",
       "    <tr>\n",
       "      <th>4</th>\n",
       "      <td>ENSG00000000419</td>\n",
       "      <td>5</td>\n",
       "      <td>qep</td>\n",
       "      <td>0.094594</td>\n",
       "      <td>ENSG000000004195indel:1D_19_42188103</td>\n",
       "    </tr>\n",
       "  </tbody>\n",
       "</table>\n",
       "</div>"
      ],
      "text/plain": [
       "              gene  intron label   p-value  \\\n",
       "0  ENSG00000000419       5   qep  0.681601   \n",
       "1  ENSG00000000419       5   qep  0.783540   \n",
       "2  ENSG00000000419       5   qep  0.853694   \n",
       "3  ENSG00000000419       5   qep  0.435262   \n",
       "4  ENSG00000000419       5   qep  0.094594   \n",
       "\n",
       "                                 marker  \n",
       "0  ENSG000000004195indel:1D_19_42138740  \n",
       "1  ENSG000000004195indel:1D_19_42165671  \n",
       "2  ENSG000000004195indel:1D_19_42166488  \n",
       "3  ENSG000000004195indel:1D_19_42188032  \n",
       "4  ENSG000000004195indel:1D_19_42188103  "
      ]
     },
     "execution_count": 61,
     "metadata": {},
     "output_type": "execute_result"
    }
   ],
   "source": [
    "DF['qep'].head()"
   ]
  },
  {
   "cell_type": "code",
   "execution_count": 62,
   "metadata": {
    "collapsed": true
   },
   "outputs": [],
   "source": [
    "for method in methods:\n",
    "    DF[method].set_index([\"label\", \"marker\"], inplace=True)\n",
    "    DF[method].sort_index(inplace=True)"
   ]
  },
  {
   "cell_type": "code",
   "execution_count": 63,
   "metadata": {
    "collapsed": false
   },
   "outputs": [
    {
     "data": {
      "text/html": [
       "<div>\n",
       "<table border=\"1\" class=\"dataframe\">\n",
       "  <thead>\n",
       "    <tr style=\"text-align: right;\">\n",
       "      <th></th>\n",
       "      <th></th>\n",
       "      <th>gene</th>\n",
       "      <th>intron</th>\n",
       "      <th>p-value</th>\n",
       "    </tr>\n",
       "    <tr>\n",
       "      <th>label</th>\n",
       "      <th>marker</th>\n",
       "      <th></th>\n",
       "      <th></th>\n",
       "      <th></th>\n",
       "    </tr>\n",
       "  </thead>\n",
       "  <tbody>\n",
       "    <tr>\n",
       "      <th rowspan=\"5\" valign=\"top\">qep</th>\n",
       "      <th>ENSG000000004195indel:1D_19_42138740</th>\n",
       "      <td>ENSG00000000419</td>\n",
       "      <td>5</td>\n",
       "      <td>0.681601</td>\n",
       "    </tr>\n",
       "    <tr>\n",
       "      <th>ENSG000000004195indel:1D_19_42165671</th>\n",
       "      <td>ENSG00000000419</td>\n",
       "      <td>5</td>\n",
       "      <td>0.783540</td>\n",
       "    </tr>\n",
       "    <tr>\n",
       "      <th>ENSG000000004195indel:1D_19_42166488</th>\n",
       "      <td>ENSG00000000419</td>\n",
       "      <td>5</td>\n",
       "      <td>0.853694</td>\n",
       "    </tr>\n",
       "    <tr>\n",
       "      <th>ENSG000000004195indel:1D_19_42188032</th>\n",
       "      <td>ENSG00000000419</td>\n",
       "      <td>5</td>\n",
       "      <td>0.435262</td>\n",
       "    </tr>\n",
       "    <tr>\n",
       "      <th>ENSG000000004195indel:1D_19_42188103</th>\n",
       "      <td>ENSG00000000419</td>\n",
       "      <td>5</td>\n",
       "      <td>0.094594</td>\n",
       "    </tr>\n",
       "  </tbody>\n",
       "</table>\n",
       "</div>"
      ],
      "text/plain": [
       "                                                       gene  intron   p-value\n",
       "label marker                                                                 \n",
       "qep   ENSG000000004195indel:1D_19_42138740  ENSG00000000419       5  0.681601\n",
       "      ENSG000000004195indel:1D_19_42165671  ENSG00000000419       5  0.783540\n",
       "      ENSG000000004195indel:1D_19_42166488  ENSG00000000419       5  0.853694\n",
       "      ENSG000000004195indel:1D_19_42188032  ENSG00000000419       5  0.435262\n",
       "      ENSG000000004195indel:1D_19_42188103  ENSG00000000419       5  0.094594"
      ]
     },
     "execution_count": 63,
     "metadata": {},
     "output_type": "execute_result"
    }
   ],
   "source": [
    "DF['qep'].head()"
   ]
  },
  {
   "cell_type": "code",
   "execution_count": 64,
   "metadata": {
    "collapsed": true
   },
   "outputs": [],
   "source": [
    "DF0 = pd.concat([DF[method] for method in methods])"
   ]
  },
  {
   "cell_type": "code",
   "execution_count": 65,
   "metadata": {
    "collapsed": false
   },
   "outputs": [
    {
     "data": {
      "text/html": [
       "<div>\n",
       "<table border=\"1\" class=\"dataframe\">\n",
       "  <thead>\n",
       "    <tr style=\"text-align: right;\">\n",
       "      <th></th>\n",
       "      <th></th>\n",
       "      <th>gene</th>\n",
       "      <th>intron</th>\n",
       "      <th>p-value</th>\n",
       "    </tr>\n",
       "    <tr>\n",
       "      <th>label</th>\n",
       "      <th>marker</th>\n",
       "      <th></th>\n",
       "      <th></th>\n",
       "      <th></th>\n",
       "    </tr>\n",
       "  </thead>\n",
       "  <tbody>\n",
       "    <tr>\n",
       "      <th rowspan=\"5\" valign=\"top\">lmm</th>\n",
       "      <th>ENSG000000004195indel:1D_19_42138740</th>\n",
       "      <td>ENSG00000000419</td>\n",
       "      <td>5</td>\n",
       "      <td>0.890446</td>\n",
       "    </tr>\n",
       "    <tr>\n",
       "      <th>ENSG000000004195indel:1D_19_42165671</th>\n",
       "      <td>ENSG00000000419</td>\n",
       "      <td>5</td>\n",
       "      <td>0.903899</td>\n",
       "    </tr>\n",
       "    <tr>\n",
       "      <th>ENSG000000004195indel:1D_19_42166488</th>\n",
       "      <td>ENSG00000000419</td>\n",
       "      <td>5</td>\n",
       "      <td>0.974254</td>\n",
       "    </tr>\n",
       "    <tr>\n",
       "      <th>ENSG000000004195indel:1D_19_42188032</th>\n",
       "      <td>ENSG00000000419</td>\n",
       "      <td>5</td>\n",
       "      <td>0.276557</td>\n",
       "    </tr>\n",
       "    <tr>\n",
       "      <th>ENSG000000004195indel:1D_19_42188103</th>\n",
       "      <td>ENSG00000000419</td>\n",
       "      <td>5</td>\n",
       "      <td>0.000505</td>\n",
       "    </tr>\n",
       "  </tbody>\n",
       "</table>\n",
       "</div>"
      ],
      "text/plain": [
       "                                                       gene  intron   p-value\n",
       "label marker                                                                 \n",
       "lmm   ENSG000000004195indel:1D_19_42138740  ENSG00000000419       5  0.890446\n",
       "      ENSG000000004195indel:1D_19_42165671  ENSG00000000419       5  0.903899\n",
       "      ENSG000000004195indel:1D_19_42166488  ENSG00000000419       5  0.974254\n",
       "      ENSG000000004195indel:1D_19_42188032  ENSG00000000419       5  0.276557\n",
       "      ENSG000000004195indel:1D_19_42188103  ENSG00000000419       5  0.000505"
      ]
     },
     "execution_count": 65,
     "metadata": {},
     "output_type": "execute_result"
    }
   ],
   "source": [
    "DF0.head()"
   ]
  },
  {
   "cell_type": "code",
   "execution_count": 67,
   "metadata": {
    "collapsed": false
   },
   "outputs": [
    {
     "data": {
      "text/plain": [
       "dtype('int64')"
      ]
     },
     "execution_count": 67,
     "metadata": {},
     "output_type": "execute_result"
    }
   ],
   "source": [
    "DF0['intron'].dtype"
   ]
  },
  {
   "cell_type": "code",
   "execution_count": 68,
   "metadata": {
    "collapsed": false
   },
   "outputs": [
    {
     "data": {
      "text/plain": [
       "dtype('float64')"
      ]
     },
     "execution_count": 68,
     "metadata": {},
     "output_type": "execute_result"
    }
   ],
   "source": [
    "DF0['p-value'].dtype"
   ]
  },
  {
   "cell_type": "code",
   "execution_count": 69,
   "metadata": {
    "collapsed": true
   },
   "outputs": [],
   "source": [
    "DF0.to_pickle('DF0.pkl')"
   ]
  },
  {
   "cell_type": "code",
   "execution_count": null,
   "metadata": {
    "collapsed": false
   },
   "outputs": [],
   "source": [
    "DF0_small = DF0.iloc[10500000:90600000]\n",
    "show(qqplot(DF0_small, figure=bokeh.plotting.figure(tools=[], width=900)))"
   ]
  },
  {
   "cell_type": "code",
   "execution_count": null,
   "metadata": {
    "collapsed": true
   },
   "outputs": [],
   "source": []
  },
  {
   "cell_type": "code",
   "execution_count": null,
   "metadata": {
    "collapsed": true
   },
   "outputs": [],
   "source": []
  },
  {
   "cell_type": "code",
   "execution_count": null,
   "metadata": {
    "collapsed": true
   },
   "outputs": [],
   "source": []
  },
  {
   "cell_type": "code",
   "execution_count": null,
   "metadata": {
    "collapsed": true
   },
   "outputs": [],
   "source": []
  },
  {
   "cell_type": "code",
   "execution_count": null,
   "metadata": {
    "collapsed": true
   },
   "outputs": [],
   "source": []
  },
  {
   "cell_type": "code",
   "execution_count": null,
   "metadata": {
    "collapsed": true
   },
   "outputs": [],
   "source": []
  },
  {
   "cell_type": "code",
   "execution_count": null,
   "metadata": {
    "collapsed": true
   },
   "outputs": [],
   "source": []
  },
  {
   "cell_type": "code",
   "execution_count": null,
   "metadata": {
    "collapsed": true
   },
   "outputs": [],
   "source": []
  },
  {
   "cell_type": "code",
   "execution_count": null,
   "metadata": {
    "collapsed": true
   },
   "outputs": [],
   "source": []
  },
  {
   "cell_type": "code",
   "execution_count": null,
   "metadata": {
    "collapsed": true
   },
   "outputs": [],
   "source": []
  },
  {
   "cell_type": "code",
   "execution_count": null,
   "metadata": {
    "collapsed": true
   },
   "outputs": [],
   "source": []
  },
  {
   "cell_type": "code",
   "execution_count": null,
   "metadata": {
    "collapsed": true
   },
   "outputs": [],
   "source": []
  },
  {
   "cell_type": "code",
   "execution_count": null,
   "metadata": {
    "collapsed": true
   },
   "outputs": [],
   "source": []
  },
  {
   "cell_type": "code",
   "execution_count": null,
   "metadata": {
    "collapsed": true
   },
   "outputs": [],
   "source": []
  },
  {
   "cell_type": "code",
   "execution_count": 3,
   "metadata": {
    "collapsed": false
   },
   "outputs": [
    {
     "data": {
      "text/html": [
       "\n",
       "    <div class=\"bk-root\">\n",
       "        <a href=\"http://bokeh.pydata.org\" target=\"_blank\" class=\"bk-logo bk-logo-small bk-logo-notebook\"></a>\n",
       "        <span id=\"87adb0f3-7e1a-45a1-8145-a7c17893e208\">Loading BokehJS ...</span>\n",
       "    </div>"
      ]
     },
     "metadata": {},
     "output_type": "display_data"
    },
    {
     "data": {
      "application/javascript": [
       "\n",
       "(function(global) {\n",
       "  function now() {\n",
       "    return new Date();\n",
       "  }\n",
       "\n",
       "  var force = \"1\";\n",
       "\n",
       "  if (typeof (window._bokeh_onload_callbacks) === \"undefined\" || force !== \"\") {\n",
       "    window._bokeh_onload_callbacks = [];\n",
       "    window._bokeh_is_loading = undefined;\n",
       "  }\n",
       "\n",
       "\n",
       "  \n",
       "  if (typeof (window._bokeh_timeout) === \"undefined\" || force !== \"\") {\n",
       "    window._bokeh_timeout = Date.now() + 5000;\n",
       "    window._bokeh_failed_load = false;\n",
       "  }\n",
       "\n",
       "  var NB_LOAD_WARNING = {'data': {'text/html':\n",
       "     \"<div style='background-color: #fdd'>\\n\"+\n",
       "     \"<p>\\n\"+\n",
       "     \"BokehJS does not appear to have successfully loaded. If loading BokehJS from CDN, this \\n\"+\n",
       "     \"may be due to a slow or bad network connection. Possible fixes:\\n\"+\n",
       "     \"</p>\\n\"+\n",
       "     \"<ul>\\n\"+\n",
       "     \"<li>re-rerun `output_notebook()` to attempt to load from CDN again, or</li>\\n\"+\n",
       "     \"<li>use INLINE resources instead, as so:</li>\\n\"+\n",
       "     \"</ul>\\n\"+\n",
       "     \"<code>\\n\"+\n",
       "     \"from bokeh.resources import INLINE\\n\"+\n",
       "     \"output_notebook(resources=INLINE)\\n\"+\n",
       "     \"</code>\\n\"+\n",
       "     \"</div>\"}};\n",
       "\n",
       "  function display_loaded() {\n",
       "    if (window.Bokeh !== undefined) {\n",
       "      Bokeh.$(\"#87adb0f3-7e1a-45a1-8145-a7c17893e208\").text(\"BokehJS successfully loaded.\");\n",
       "    } else if (Date.now() < window._bokeh_timeout) {\n",
       "      setTimeout(display_loaded, 100)\n",
       "    }\n",
       "  }\n",
       "\n",
       "  function run_callbacks() {\n",
       "    window._bokeh_onload_callbacks.forEach(function(callback) { callback() });\n",
       "    delete window._bokeh_onload_callbacks\n",
       "    console.info(\"Bokeh: all callbacks have finished\");\n",
       "  }\n",
       "\n",
       "  function load_libs(js_urls, callback) {\n",
       "    window._bokeh_onload_callbacks.push(callback);\n",
       "    if (window._bokeh_is_loading > 0) {\n",
       "      console.log(\"Bokeh: BokehJS is being loaded, scheduling callback at\", now());\n",
       "      return null;\n",
       "    }\n",
       "    if (js_urls == null || js_urls.length === 0) {\n",
       "      run_callbacks();\n",
       "      return null;\n",
       "    }\n",
       "    console.log(\"Bokeh: BokehJS not loaded, scheduling load and callback at\", now());\n",
       "    window._bokeh_is_loading = js_urls.length;\n",
       "    for (var i = 0; i < js_urls.length; i++) {\n",
       "      var url = js_urls[i];\n",
       "      var s = document.createElement('script');\n",
       "      s.src = url;\n",
       "      s.async = false;\n",
       "      s.onreadystatechange = s.onload = function() {\n",
       "        window._bokeh_is_loading--;\n",
       "        if (window._bokeh_is_loading === 0) {\n",
       "          console.log(\"Bokeh: all BokehJS libraries loaded\");\n",
       "          run_callbacks()\n",
       "        }\n",
       "      };\n",
       "      s.onerror = function() {\n",
       "        console.warn(\"failed to load library \" + url);\n",
       "      };\n",
       "      console.log(\"Bokeh: injecting script tag for BokehJS library: \", url);\n",
       "      document.getElementsByTagName(\"head\")[0].appendChild(s);\n",
       "    }\n",
       "  };var element = document.getElementById(\"87adb0f3-7e1a-45a1-8145-a7c17893e208\");\n",
       "  if (element == null) {\n",
       "    console.log(\"Bokeh: ERROR: autoload.js configured with elementid '87adb0f3-7e1a-45a1-8145-a7c17893e208' but no matching script tag was found. \")\n",
       "    return false;\n",
       "  }\n",
       "\n",
       "  var js_urls = ['https://cdn.pydata.org/bokeh/release/bokeh-0.12.2.min.js', 'https://cdn.pydata.org/bokeh/release/bokeh-widgets-0.12.2.min.js', 'https://cdn.pydata.org/bokeh/release/bokeh-compiler-0.12.2.min.js'];\n",
       "\n",
       "  var inline_js = [\n",
       "    function(Bokeh) {\n",
       "      Bokeh.set_log_level(\"info\");\n",
       "    },\n",
       "    \n",
       "    function(Bokeh) {\n",
       "      \n",
       "      Bokeh.$(\"#87adb0f3-7e1a-45a1-8145-a7c17893e208\").text(\"BokehJS is loading...\");\n",
       "    },\n",
       "    function(Bokeh) {\n",
       "      console.log(\"Bokeh: injecting CSS: https://cdn.pydata.org/bokeh/release/bokeh-0.12.2.min.css\");\n",
       "      Bokeh.embed.inject_css(\"https://cdn.pydata.org/bokeh/release/bokeh-0.12.2.min.css\");\n",
       "      console.log(\"Bokeh: injecting CSS: https://cdn.pydata.org/bokeh/release/bokeh-widgets-0.12.2.min.css\");\n",
       "      Bokeh.embed.inject_css(\"https://cdn.pydata.org/bokeh/release/bokeh-widgets-0.12.2.min.css\");\n",
       "    }\n",
       "  ];\n",
       "\n",
       "  function run_inline_js() {\n",
       "    \n",
       "    if ((window.Bokeh !== undefined) || (force === \"1\")) {\n",
       "      for (var i = 0; i < inline_js.length; i++) {\n",
       "        inline_js[i](window.Bokeh);\n",
       "      }if (force === \"1\") {\n",
       "        display_loaded();\n",
       "      }} else if (Date.now() < window._bokeh_timeout) {\n",
       "      setTimeout(run_inline_js, 100);\n",
       "    } else if (!window._bokeh_failed_load) {\n",
       "      console.log(\"Bokeh: BokehJS failed to load within specified timeout.\");\n",
       "      window._bokeh_failed_load = true;\n",
       "    } else if (!force) {\n",
       "      var cell = $(\"#87adb0f3-7e1a-45a1-8145-a7c17893e208\").parents('.cell').data().cell;\n",
       "      cell.output_area.append_execute_result(NB_LOAD_WARNING)\n",
       "    }\n",
       "\n",
       "  }\n",
       "\n",
       "  if (window._bokeh_is_loading === 0) {\n",
       "    console.log(\"Bokeh: BokehJS loaded, going straight to plotting\");\n",
       "    run_inline_js();\n",
       "  } else {\n",
       "    load_libs(js_urls, function() {\n",
       "      console.log(\"Bokeh: BokehJS plotting callback run at\", now());\n",
       "      run_inline_js();\n",
       "    });\n",
       "  }\n",
       "}(this));"
      ]
     },
     "metadata": {},
     "output_type": "display_data"
    }
   ],
   "source": [
    "from bokeh.io import push_notebook, output_notebook\n",
    "from bokeh.models import HoverTool, ColumnDataSource\n",
    "from bokeh.plotting import show, output_file\n",
    "import bokeh\n",
    "output_notebook()"
   ]
  },
  {
   "cell_type": "code",
   "execution_count": 72,
   "metadata": {
    "collapsed": true
   },
   "outputs": [],
   "source": [
    "import numpy as np\n",
    "import colour\n",
    "from scipy.special import betaincinv\n",
    "from limix_plot import cycler_ as cycler\n",
    "from collections import OrderedDict\n",
    "from numpy import asarray as asa\n",
    "\n",
    "def expected(n):\n",
    "    lnpv = np.linspace(1/(n+1), n/(n+1), n, endpoint=True)\n",
    "    return np.flipud(-np.log10(lnpv))\n",
    "\n",
    "from scipy.special import betaincinv\n",
    "\n",
    "def rank_confidence_band(nranks):\n",
    "    alpha = 0.01\n",
    "    n = nranks\n",
    "\n",
    "    k0 = np.arange(1, n+1)\n",
    "    k1 = np.flipud(k0).copy()\n",
    "\n",
    "    top = betaincinv(k0, k1, 1-alpha)\n",
    "    mean = k0 / (n + 1)\n",
    "    bottom = betaincinv(k0, k1, alpha)\n",
    "\n",
    "    return (bottom, mean, top)\n",
    "\n",
    "def qqplot(df, figure=None, colors=None, threshold=1.0):\n",
    "    import bokeh\n",
    "    import bokeh.palettes\n",
    "    \n",
    "    if figure is None:\n",
    "        figure = bokeh.plotting.figure(tools=['hover,box_zoom,save,pan,reset'], width=900)\n",
    "    \n",
    "    labels = list(df.index.get_level_values(0).unique())\n",
    "    if colors is None:\n",
    "        colors = dict()\n",
    "        colors_iter = iter(bokeh.palettes.brewer['Spectral'][11])\n",
    "        for label in labels:\n",
    "            colors[label] = next(colors_iter)\n",
    "    \n",
    "    for label in labels:\n",
    "        df0 = df.loc[(label,),:]\n",
    "        \n",
    "        pv = df0['p-value'].values\n",
    "        lpv = -np.log10(pv)\n",
    "        lpv_sort = np.argsort(lpv)\n",
    "        expected_lpv = expected(len(lpv))\n",
    "\n",
    "        ok = pv[lpv_sort] <= threshold\n",
    "\n",
    "        source = ColumnDataSource(data=dict(\n",
    "            xname=expected_lpv[ok],\n",
    "            yname=lpv[lpv_sort][ok],\n",
    "            pval=pv[lpv_sort][ok]\n",
    "        ))\n",
    "\n",
    "        fill_alpha = 0.8\n",
    "        figure.circle('xname', 'yname', source=source, color=colors[label],\n",
    "                 fill_alpha=fill_alpha, line_width=0, line_color=None,\n",
    "                 legend=label)\n",
    "\n",
    "    (bo, mean, to) = rank_confidence_band(len(lpv))\n",
    "    me = [-np.log10(m) for m in mean]\n",
    "    figure.line([me[0], me[-1]], [me[0], me[-1]], color='black')\n",
    "    figure.legend.location = 'top_left'\n",
    "    \n",
    "    bo = np.flipud(-np.log10(bo))\n",
    "    me = np.flipud(-np.log10(mean))\n",
    "    to = np.flipud(-np.log10(to))\n",
    "\n",
    "    band_x = np.append(me, me[::-1])\n",
    "    band_y = np.append(bo, to[::-1])\n",
    "    figure.patch(band_x, band_y, line_color='black', fill_color='black', fill_alpha=0.15, line_alpha=0.5)\n",
    "\n",
    "    return figure\n"
   ]
  },
  {
   "cell_type": "code",
   "execution_count": null,
   "metadata": {
    "collapsed": true
   },
   "outputs": [],
   "source": []
  },
  {
   "cell_type": "code",
   "execution_count": null,
   "metadata": {
    "collapsed": true
   },
   "outputs": [],
   "source": []
  },
  {
   "cell_type": "code",
   "execution_count": null,
   "metadata": {
    "collapsed": true
   },
   "outputs": [],
   "source": []
  },
  {
   "cell_type": "code",
   "execution_count": null,
   "metadata": {
    "collapsed": true
   },
   "outputs": [],
   "source": []
  },
  {
   "cell_type": "code",
   "execution_count": 5,
   "metadata": {
    "collapsed": false
   },
   "outputs": [
    {
     "data": {
      "text/html": [
       "<div>\n",
       "<table border=\"1\" class=\"dataframe\">\n",
       "  <thead>\n",
       "    <tr style=\"text-align: right;\">\n",
       "      <th></th>\n",
       "      <th></th>\n",
       "      <th>chrom</th>\n",
       "      <th>lmm-pval</th>\n",
       "      <th>lmm-rank-pval</th>\n",
       "      <th>pos</th>\n",
       "      <th>qep-pval</th>\n",
       "      <th>snp_id</th>\n",
       "    </tr>\n",
       "    <tr>\n",
       "      <th>gene</th>\n",
       "      <th>intron</th>\n",
       "      <th></th>\n",
       "      <th></th>\n",
       "      <th></th>\n",
       "      <th></th>\n",
       "      <th></th>\n",
       "      <th></th>\n",
       "    </tr>\n",
       "  </thead>\n",
       "  <tbody>\n",
       "    <tr>\n",
       "      <th rowspan=\"5\" valign=\"top\">ENSG00000000419</th>\n",
       "      <th>5</th>\n",
       "      <td>20</td>\n",
       "      <td>0.477324</td>\n",
       "      <td>0.406138</td>\n",
       "      <td>42131442</td>\n",
       "      <td>0.386107</td>\n",
       "      <td>snp_19_42131442</td>\n",
       "    </tr>\n",
       "    <tr>\n",
       "      <th>5</th>\n",
       "      <td>20</td>\n",
       "      <td>0.039244</td>\n",
       "      <td>0.014254</td>\n",
       "      <td>42131753</td>\n",
       "      <td>0.009565</td>\n",
       "      <td>indel:1I_19_42131753</td>\n",
       "    </tr>\n",
       "    <tr>\n",
       "      <th>5</th>\n",
       "      <td>20</td>\n",
       "      <td>0.573356</td>\n",
       "      <td>0.590113</td>\n",
       "      <td>42132193</td>\n",
       "      <td>0.654554</td>\n",
       "      <td>snp_19_42132193</td>\n",
       "    </tr>\n",
       "    <tr>\n",
       "      <th>5</th>\n",
       "      <td>20</td>\n",
       "      <td>0.825621</td>\n",
       "      <td>0.945350</td>\n",
       "      <td>42132273</td>\n",
       "      <td>0.963257</td>\n",
       "      <td>snp_19_42132273</td>\n",
       "    </tr>\n",
       "    <tr>\n",
       "      <th>5</th>\n",
       "      <td>20</td>\n",
       "      <td>0.910330</td>\n",
       "      <td>0.857315</td>\n",
       "      <td>42132314</td>\n",
       "      <td>0.891363</td>\n",
       "      <td>snp_19_42132314</td>\n",
       "    </tr>\n",
       "  </tbody>\n",
       "</table>\n",
       "</div>"
      ],
      "text/plain": [
       "                        chrom  lmm-pval  lmm-rank-pval       pos  qep-pval  \\\n",
       "gene            intron                                                       \n",
       "ENSG00000000419 5          20  0.477324       0.406138  42131442  0.386107   \n",
       "                5          20  0.039244       0.014254  42131753  0.009565   \n",
       "                5          20  0.573356       0.590113  42132193  0.654554   \n",
       "                5          20  0.825621       0.945350  42132273  0.963257   \n",
       "                5          20  0.910330       0.857315  42132314  0.891363   \n",
       "\n",
       "                                      snp_id  \n",
       "gene            intron                        \n",
       "ENSG00000000419 5            snp_19_42131442  \n",
       "                5       indel:1I_19_42131753  \n",
       "                5            snp_19_42132193  \n",
       "                5            snp_19_42132273  \n",
       "                5            snp_19_42132314  "
      ]
     },
     "execution_count": 5,
     "metadata": {},
     "output_type": "execute_result"
    }
   ],
   "source": [
    "df.head()"
   ]
  },
  {
   "cell_type": "code",
   "execution_count": 6,
   "metadata": {
    "collapsed": true
   },
   "outputs": [],
   "source": [
    "DF = pd.DataFrame(columns=['label', 'marker', 'p-value']).set_index(['label', 'marker'])\n",
    "DF['p-value'] = DF['p-value'].astype(float)"
   ]
  },
  {
   "cell_type": "code",
   "execution_count": 7,
   "metadata": {
    "collapsed": false
   },
   "outputs": [
    {
     "data": {
      "text/html": [
       "<div>\n",
       "<table border=\"1\" class=\"dataframe\">\n",
       "  <thead>\n",
       "    <tr style=\"text-align: right;\">\n",
       "      <th></th>\n",
       "      <th>gene</th>\n",
       "      <th>intron</th>\n",
       "      <th>chrom</th>\n",
       "      <th>lmm-pval</th>\n",
       "      <th>lmm-rank-pval</th>\n",
       "      <th>pos</th>\n",
       "      <th>qep-pval</th>\n",
       "      <th>snp_id</th>\n",
       "    </tr>\n",
       "  </thead>\n",
       "  <tbody>\n",
       "    <tr>\n",
       "      <th>0</th>\n",
       "      <td>ENSG00000000419</td>\n",
       "      <td>5</td>\n",
       "      <td>20</td>\n",
       "      <td>0.477324</td>\n",
       "      <td>0.406138</td>\n",
       "      <td>42131442</td>\n",
       "      <td>0.386107</td>\n",
       "      <td>snp_19_42131442</td>\n",
       "    </tr>\n",
       "    <tr>\n",
       "      <th>1</th>\n",
       "      <td>ENSG00000000419</td>\n",
       "      <td>5</td>\n",
       "      <td>20</td>\n",
       "      <td>0.039244</td>\n",
       "      <td>0.014254</td>\n",
       "      <td>42131753</td>\n",
       "      <td>0.009565</td>\n",
       "      <td>indel:1I_19_42131753</td>\n",
       "    </tr>\n",
       "    <tr>\n",
       "      <th>2</th>\n",
       "      <td>ENSG00000000419</td>\n",
       "      <td>5</td>\n",
       "      <td>20</td>\n",
       "      <td>0.573356</td>\n",
       "      <td>0.590113</td>\n",
       "      <td>42132193</td>\n",
       "      <td>0.654554</td>\n",
       "      <td>snp_19_42132193</td>\n",
       "    </tr>\n",
       "    <tr>\n",
       "      <th>3</th>\n",
       "      <td>ENSG00000000419</td>\n",
       "      <td>5</td>\n",
       "      <td>20</td>\n",
       "      <td>0.825621</td>\n",
       "      <td>0.945350</td>\n",
       "      <td>42132273</td>\n",
       "      <td>0.963257</td>\n",
       "      <td>snp_19_42132273</td>\n",
       "    </tr>\n",
       "    <tr>\n",
       "      <th>4</th>\n",
       "      <td>ENSG00000000419</td>\n",
       "      <td>5</td>\n",
       "      <td>20</td>\n",
       "      <td>0.910330</td>\n",
       "      <td>0.857315</td>\n",
       "      <td>42132314</td>\n",
       "      <td>0.891363</td>\n",
       "      <td>snp_19_42132314</td>\n",
       "    </tr>\n",
       "  </tbody>\n",
       "</table>\n",
       "</div>"
      ],
      "text/plain": [
       "              gene  intron  chrom  lmm-pval  lmm-rank-pval       pos  \\\n",
       "0  ENSG00000000419       5     20  0.477324       0.406138  42131442   \n",
       "1  ENSG00000000419       5     20  0.039244       0.014254  42131753   \n",
       "2  ENSG00000000419       5     20  0.573356       0.590113  42132193   \n",
       "3  ENSG00000000419       5     20  0.825621       0.945350  42132273   \n",
       "4  ENSG00000000419       5     20  0.910330       0.857315  42132314   \n",
       "\n",
       "   qep-pval                snp_id  \n",
       "0  0.386107       snp_19_42131442  \n",
       "1  0.009565  indel:1I_19_42131753  \n",
       "2  0.654554       snp_19_42132193  \n",
       "3  0.963257       snp_19_42132273  \n",
       "4  0.891363       snp_19_42132314  "
      ]
     },
     "execution_count": 7,
     "metadata": {},
     "output_type": "execute_result"
    }
   ],
   "source": [
    "df = df.reset_index()\n",
    "df.head()"
   ]
  },
  {
   "cell_type": "code",
   "execution_count": 8,
   "metadata": {
    "collapsed": true
   },
   "outputs": [],
   "source": [
    "df = df.set_index(['gene', 'intron', 'snp_id'])"
   ]
  },
  {
   "cell_type": "code",
   "execution_count": 9,
   "metadata": {
    "collapsed": false
   },
   "outputs": [
    {
     "data": {
      "text/html": [
       "<div>\n",
       "<table border=\"1\" class=\"dataframe\">\n",
       "  <thead>\n",
       "    <tr style=\"text-align: right;\">\n",
       "      <th></th>\n",
       "      <th></th>\n",
       "      <th></th>\n",
       "      <th>chrom</th>\n",
       "      <th>lmm-pval</th>\n",
       "      <th>lmm-rank-pval</th>\n",
       "      <th>pos</th>\n",
       "      <th>qep-pval</th>\n",
       "    </tr>\n",
       "    <tr>\n",
       "      <th>gene</th>\n",
       "      <th>intron</th>\n",
       "      <th>snp_id</th>\n",
       "      <th></th>\n",
       "      <th></th>\n",
       "      <th></th>\n",
       "      <th></th>\n",
       "      <th></th>\n",
       "    </tr>\n",
       "  </thead>\n",
       "  <tbody>\n",
       "    <tr>\n",
       "      <th rowspan=\"5\" valign=\"top\">ENSG00000000419</th>\n",
       "      <th rowspan=\"5\" valign=\"top\">5</th>\n",
       "      <th>snp_19_42131442</th>\n",
       "      <td>20</td>\n",
       "      <td>0.477324</td>\n",
       "      <td>0.406138</td>\n",
       "      <td>42131442</td>\n",
       "      <td>0.386107</td>\n",
       "    </tr>\n",
       "    <tr>\n",
       "      <th>indel:1I_19_42131753</th>\n",
       "      <td>20</td>\n",
       "      <td>0.039244</td>\n",
       "      <td>0.014254</td>\n",
       "      <td>42131753</td>\n",
       "      <td>0.009565</td>\n",
       "    </tr>\n",
       "    <tr>\n",
       "      <th>snp_19_42132193</th>\n",
       "      <td>20</td>\n",
       "      <td>0.573356</td>\n",
       "      <td>0.590113</td>\n",
       "      <td>42132193</td>\n",
       "      <td>0.654554</td>\n",
       "    </tr>\n",
       "    <tr>\n",
       "      <th>snp_19_42132273</th>\n",
       "      <td>20</td>\n",
       "      <td>0.825621</td>\n",
       "      <td>0.945350</td>\n",
       "      <td>42132273</td>\n",
       "      <td>0.963257</td>\n",
       "    </tr>\n",
       "    <tr>\n",
       "      <th>snp_19_42132314</th>\n",
       "      <td>20</td>\n",
       "      <td>0.910330</td>\n",
       "      <td>0.857315</td>\n",
       "      <td>42132314</td>\n",
       "      <td>0.891363</td>\n",
       "    </tr>\n",
       "  </tbody>\n",
       "</table>\n",
       "</div>"
      ],
      "text/plain": [
       "                                             chrom  lmm-pval  lmm-rank-pval  \\\n",
       "gene            intron snp_id                                                 \n",
       "ENSG00000000419 5      snp_19_42131442          20  0.477324       0.406138   \n",
       "                       indel:1I_19_42131753     20  0.039244       0.014254   \n",
       "                       snp_19_42132193          20  0.573356       0.590113   \n",
       "                       snp_19_42132273          20  0.825621       0.945350   \n",
       "                       snp_19_42132314          20  0.910330       0.857315   \n",
       "\n",
       "                                                  pos  qep-pval  \n",
       "gene            intron snp_id                                    \n",
       "ENSG00000000419 5      snp_19_42131442       42131442  0.386107  \n",
       "                       indel:1I_19_42131753  42131753  0.009565  \n",
       "                       snp_19_42132193       42132193  0.654554  \n",
       "                       snp_19_42132273       42132273  0.963257  \n",
       "                       snp_19_42132314       42132314  0.891363  "
      ]
     },
     "execution_count": 9,
     "metadata": {},
     "output_type": "execute_result"
    }
   ],
   "source": [
    "df.head()"
   ]
  },
  {
   "cell_type": "code",
   "execution_count": 10,
   "metadata": {
    "collapsed": true
   },
   "outputs": [],
   "source": [
    "df[\"index\"] = df.index.values"
   ]
  },
  {
   "cell_type": "code",
   "execution_count": 11,
   "metadata": {
    "collapsed": false
   },
   "outputs": [
    {
     "data": {
      "text/html": [
       "<div>\n",
       "<table border=\"1\" class=\"dataframe\">\n",
       "  <thead>\n",
       "    <tr style=\"text-align: right;\">\n",
       "      <th></th>\n",
       "      <th></th>\n",
       "      <th></th>\n",
       "      <th>chrom</th>\n",
       "      <th>lmm-pval</th>\n",
       "      <th>lmm-rank-pval</th>\n",
       "      <th>pos</th>\n",
       "      <th>qep-pval</th>\n",
       "      <th>index</th>\n",
       "    </tr>\n",
       "    <tr>\n",
       "      <th>gene</th>\n",
       "      <th>intron</th>\n",
       "      <th>snp_id</th>\n",
       "      <th></th>\n",
       "      <th></th>\n",
       "      <th></th>\n",
       "      <th></th>\n",
       "      <th></th>\n",
       "      <th></th>\n",
       "    </tr>\n",
       "  </thead>\n",
       "  <tbody>\n",
       "    <tr>\n",
       "      <th rowspan=\"5\" valign=\"top\">ENSG00000000419</th>\n",
       "      <th rowspan=\"5\" valign=\"top\">5</th>\n",
       "      <th>snp_19_42131442</th>\n",
       "      <td>20</td>\n",
       "      <td>0.477324</td>\n",
       "      <td>0.406138</td>\n",
       "      <td>42131442</td>\n",
       "      <td>0.386107</td>\n",
       "      <td>(ENSG00000000419, 5, snp_19_42131442)</td>\n",
       "    </tr>\n",
       "    <tr>\n",
       "      <th>indel:1I_19_42131753</th>\n",
       "      <td>20</td>\n",
       "      <td>0.039244</td>\n",
       "      <td>0.014254</td>\n",
       "      <td>42131753</td>\n",
       "      <td>0.009565</td>\n",
       "      <td>(ENSG00000000419, 5, indel:1I_19_42131753)</td>\n",
       "    </tr>\n",
       "    <tr>\n",
       "      <th>snp_19_42132193</th>\n",
       "      <td>20</td>\n",
       "      <td>0.573356</td>\n",
       "      <td>0.590113</td>\n",
       "      <td>42132193</td>\n",
       "      <td>0.654554</td>\n",
       "      <td>(ENSG00000000419, 5, snp_19_42132193)</td>\n",
       "    </tr>\n",
       "    <tr>\n",
       "      <th>snp_19_42132273</th>\n",
       "      <td>20</td>\n",
       "      <td>0.825621</td>\n",
       "      <td>0.945350</td>\n",
       "      <td>42132273</td>\n",
       "      <td>0.963257</td>\n",
       "      <td>(ENSG00000000419, 5, snp_19_42132273)</td>\n",
       "    </tr>\n",
       "    <tr>\n",
       "      <th>snp_19_42132314</th>\n",
       "      <td>20</td>\n",
       "      <td>0.910330</td>\n",
       "      <td>0.857315</td>\n",
       "      <td>42132314</td>\n",
       "      <td>0.891363</td>\n",
       "      <td>(ENSG00000000419, 5, snp_19_42132314)</td>\n",
       "    </tr>\n",
       "  </tbody>\n",
       "</table>\n",
       "</div>"
      ],
      "text/plain": [
       "                                             chrom  lmm-pval  lmm-rank-pval  \\\n",
       "gene            intron snp_id                                                 \n",
       "ENSG00000000419 5      snp_19_42131442          20  0.477324       0.406138   \n",
       "                       indel:1I_19_42131753     20  0.039244       0.014254   \n",
       "                       snp_19_42132193          20  0.573356       0.590113   \n",
       "                       snp_19_42132273          20  0.825621       0.945350   \n",
       "                       snp_19_42132314          20  0.910330       0.857315   \n",
       "\n",
       "                                                  pos  qep-pval  \\\n",
       "gene            intron snp_id                                     \n",
       "ENSG00000000419 5      snp_19_42131442       42131442  0.386107   \n",
       "                       indel:1I_19_42131753  42131753  0.009565   \n",
       "                       snp_19_42132193       42132193  0.654554   \n",
       "                       snp_19_42132273       42132273  0.963257   \n",
       "                       snp_19_42132314       42132314  0.891363   \n",
       "\n",
       "                                                                                  index  \n",
       "gene            intron snp_id                                                            \n",
       "ENSG00000000419 5      snp_19_42131442            (ENSG00000000419, 5, snp_19_42131442)  \n",
       "                       indel:1I_19_42131753  (ENSG00000000419, 5, indel:1I_19_42131753)  \n",
       "                       snp_19_42132193            (ENSG00000000419, 5, snp_19_42132193)  \n",
       "                       snp_19_42132273            (ENSG00000000419, 5, snp_19_42132273)  \n",
       "                       snp_19_42132314            (ENSG00000000419, 5, snp_19_42132314)  "
      ]
     },
     "execution_count": 11,
     "metadata": {},
     "output_type": "execute_result"
    }
   ],
   "source": [
    "df.head()"
   ]
  },
  {
   "cell_type": "code",
   "execution_count": 14,
   "metadata": {
    "collapsed": false
   },
   "outputs": [],
   "source": [
    "df.reset_index(inplace=True)"
   ]
  },
  {
   "cell_type": "code",
   "execution_count": 16,
   "metadata": {
    "collapsed": false
   },
   "outputs": [],
   "source": [
    "df_new = df.set_index(\"index\")"
   ]
  },
  {
   "cell_type": "code",
   "execution_count": null,
   "metadata": {
    "collapsed": true
   },
   "outputs": [],
   "source": [
    "# DF.loc[('qep', )]\n",
    "# for (i, m) in enumerate(marker):\n",
    "#     df.loc[('qep', m), 'p-value'] = pvals0[i]"
   ]
  },
  {
   "cell_type": "code",
   "execution_count": 18,
   "metadata": {
    "collapsed": false
   },
   "outputs": [],
   "source": [
    "df_new.reset_index(inplace=True)\n",
    "del df_new['index']"
   ]
  },
  {
   "cell_type": "code",
   "execution_count": 20,
   "metadata": {
    "collapsed": false
   },
   "outputs": [],
   "source": [
    "lmm_pval = df_new[\"lmm-pval\"]\n",
    "lmm_rank_pval = df_new[\"lmm-rank-pval\"]\n",
    "qep_pval = df_new[\"qep-pval\"]\n",
    "\n",
    "del df_new[\"lmm-pval\"]\n",
    "del df_new[\"lmm-rank-pval\"]\n",
    "del df_new[\"qep-pval\"]\n",
    "\n",
    "df_info = df_new"
   ]
  },
  {
   "cell_type": "code",
   "execution_count": 21,
   "metadata": {
    "collapsed": false
   },
   "outputs": [
    {
     "data": {
      "text/html": [
       "<div>\n",
       "<table border=\"1\" class=\"dataframe\">\n",
       "  <thead>\n",
       "    <tr style=\"text-align: right;\">\n",
       "      <th></th>\n",
       "      <th>gene</th>\n",
       "      <th>intron</th>\n",
       "      <th>snp_id</th>\n",
       "      <th>chrom</th>\n",
       "      <th>pos</th>\n",
       "    </tr>\n",
       "  </thead>\n",
       "  <tbody>\n",
       "    <tr>\n",
       "      <th>0</th>\n",
       "      <td>ENSG00000000419</td>\n",
       "      <td>5</td>\n",
       "      <td>snp_19_42131442</td>\n",
       "      <td>20</td>\n",
       "      <td>42131442</td>\n",
       "    </tr>\n",
       "    <tr>\n",
       "      <th>1</th>\n",
       "      <td>ENSG00000000419</td>\n",
       "      <td>5</td>\n",
       "      <td>indel:1I_19_42131753</td>\n",
       "      <td>20</td>\n",
       "      <td>42131753</td>\n",
       "    </tr>\n",
       "    <tr>\n",
       "      <th>2</th>\n",
       "      <td>ENSG00000000419</td>\n",
       "      <td>5</td>\n",
       "      <td>snp_19_42132193</td>\n",
       "      <td>20</td>\n",
       "      <td>42132193</td>\n",
       "    </tr>\n",
       "    <tr>\n",
       "      <th>3</th>\n",
       "      <td>ENSG00000000419</td>\n",
       "      <td>5</td>\n",
       "      <td>snp_19_42132273</td>\n",
       "      <td>20</td>\n",
       "      <td>42132273</td>\n",
       "    </tr>\n",
       "    <tr>\n",
       "      <th>4</th>\n",
       "      <td>ENSG00000000419</td>\n",
       "      <td>5</td>\n",
       "      <td>snp_19_42132314</td>\n",
       "      <td>20</td>\n",
       "      <td>42132314</td>\n",
       "    </tr>\n",
       "  </tbody>\n",
       "</table>\n",
       "</div>"
      ],
      "text/plain": [
       "              gene  intron                snp_id  chrom       pos\n",
       "0  ENSG00000000419       5       snp_19_42131442     20  42131442\n",
       "1  ENSG00000000419       5  indel:1I_19_42131753     20  42131753\n",
       "2  ENSG00000000419       5       snp_19_42132193     20  42132193\n",
       "3  ENSG00000000419       5       snp_19_42132273     20  42132273\n",
       "4  ENSG00000000419       5       snp_19_42132314     20  42132314"
      ]
     },
     "execution_count": 21,
     "metadata": {},
     "output_type": "execute_result"
    }
   ],
   "source": [
    "df_info.head()"
   ]
  },
  {
   "cell_type": "code",
   "execution_count": 29,
   "metadata": {
    "collapsed": false
   },
   "outputs": [],
   "source": [
    "lmm_pval.name = 'p-value'\n",
    "lmm_rank_pval.name = 'p-value'\n",
    "qep_pval.name = 'p-value'\n",
    "# pd.concat([lmm_pval.to_frame(), lmm_rank_pval.to_frame(), qep_pval.to_frame()]).head()"
   ]
  },
  {
   "cell_type": "code",
   "execution_count": 31,
   "metadata": {
    "collapsed": false
   },
   "outputs": [],
   "source": [
    "lmm_pval = lmm_pval.to_frame()\n",
    "lmm_rank_pval = lmm_rank_pval.to_frame()\n",
    "qep_pval = qep_pval.to_frame()"
   ]
  },
  {
   "cell_type": "code",
   "execution_count": 32,
   "metadata": {
    "collapsed": false
   },
   "outputs": [
    {
     "data": {
      "text/html": [
       "<div>\n",
       "<table border=\"1\" class=\"dataframe\">\n",
       "  <thead>\n",
       "    <tr style=\"text-align: right;\">\n",
       "      <th></th>\n",
       "      <th>p-value</th>\n",
       "    </tr>\n",
       "  </thead>\n",
       "  <tbody>\n",
       "    <tr>\n",
       "      <th>0</th>\n",
       "      <td>0.477324</td>\n",
       "    </tr>\n",
       "    <tr>\n",
       "      <th>1</th>\n",
       "      <td>0.039244</td>\n",
       "    </tr>\n",
       "    <tr>\n",
       "      <th>2</th>\n",
       "      <td>0.573356</td>\n",
       "    </tr>\n",
       "    <tr>\n",
       "      <th>3</th>\n",
       "      <td>0.825621</td>\n",
       "    </tr>\n",
       "    <tr>\n",
       "      <th>4</th>\n",
       "      <td>0.910330</td>\n",
       "    </tr>\n",
       "  </tbody>\n",
       "</table>\n",
       "</div>"
      ],
      "text/plain": [
       "    p-value\n",
       "0  0.477324\n",
       "1  0.039244\n",
       "2  0.573356\n",
       "3  0.825621\n",
       "4  0.910330"
      ]
     },
     "execution_count": 32,
     "metadata": {},
     "output_type": "execute_result"
    }
   ],
   "source": [
    "lmm_pval."
   ]
  },
  {
   "cell_type": "code",
   "execution_count": null,
   "metadata": {
    "collapsed": true
   },
   "outputs": [],
   "source": []
  },
  {
   "cell_type": "code",
   "execution_count": null,
   "metadata": {
    "collapsed": true
   },
   "outputs": [],
   "source": []
  },
  {
   "cell_type": "code",
   "execution_count": null,
   "metadata": {
    "collapsed": true
   },
   "outputs": [],
   "source": []
  },
  {
   "cell_type": "code",
   "execution_count": null,
   "metadata": {
    "collapsed": true
   },
   "outputs": [],
   "source": []
  },
  {
   "cell_type": "code",
   "execution_count": null,
   "metadata": {
    "collapsed": true
   },
   "outputs": [],
   "source": [
    "DF = pd.DataFrame(columns=['label', 'marker', 'p-value']).set_index(['label', 'marker'])\n",
    "DF['p-value'] = DF['p-value'].astype(float)\n",
    "df.head()"
   ]
  },
  {
   "cell_type": "code",
   "execution_count": null,
   "metadata": {
    "collapsed": true
   },
   "outputs": [],
   "source": []
  },
  {
   "cell_type": "code",
   "execution_count": null,
   "metadata": {
    "collapsed": true
   },
   "outputs": [],
   "source": []
  },
  {
   "cell_type": "code",
   "execution_count": null,
   "metadata": {
    "collapsed": true
   },
   "outputs": [],
   "source": []
  },
  {
   "cell_type": "code",
   "execution_count": null,
   "metadata": {
    "collapsed": true
   },
   "outputs": [],
   "source": []
  },
  {
   "cell_type": "code",
   "execution_count": null,
   "metadata": {
    "collapsed": true
   },
   "outputs": [],
   "source": []
  },
  {
   "cell_type": "code",
   "execution_count": 14,
   "metadata": {
    "collapsed": false
   },
   "outputs": [],
   "source": [
    "crazy_pheno = ('ENSG00000198707', 30)\n",
    "DF = df.loc[crazy_pheno]"
   ]
  },
  {
   "cell_type": "code",
   "execution_count": 15,
   "metadata": {
    "collapsed": false
   },
   "outputs": [
    {
     "data": {
      "text/html": [
       "<div>\n",
       "<table border=\"1\" class=\"dataframe\">\n",
       "  <thead>\n",
       "    <tr style=\"text-align: right;\">\n",
       "      <th></th>\n",
       "      <th></th>\n",
       "      <th>chrom</th>\n",
       "      <th>lmm-pval</th>\n",
       "      <th>lmm-rank-pval</th>\n",
       "      <th>pos</th>\n",
       "      <th>qep-pval</th>\n",
       "      <th>snp_id</th>\n",
       "    </tr>\n",
       "    <tr>\n",
       "      <th>gene</th>\n",
       "      <th>intron</th>\n",
       "      <th></th>\n",
       "      <th></th>\n",
       "      <th></th>\n",
       "      <th></th>\n",
       "      <th></th>\n",
       "      <th></th>\n",
       "    </tr>\n",
       "  </thead>\n",
       "  <tbody>\n",
       "    <tr>\n",
       "      <th rowspan=\"5\" valign=\"top\">ENSG00000198707</th>\n",
       "      <th>30</th>\n",
       "      <td>12</td>\n",
       "      <td>0.565990</td>\n",
       "      <td>0.406775</td>\n",
       "      <td>46305195</td>\n",
       "      <td>0.725617</td>\n",
       "      <td>snp_11_46305195</td>\n",
       "    </tr>\n",
       "    <tr>\n",
       "      <th>30</th>\n",
       "      <td>12</td>\n",
       "      <td>0.455498</td>\n",
       "      <td>0.516151</td>\n",
       "      <td>46306177</td>\n",
       "      <td>0.795704</td>\n",
       "      <td>snp_11_46306177</td>\n",
       "    </tr>\n",
       "    <tr>\n",
       "      <th>30</th>\n",
       "      <td>12</td>\n",
       "      <td>0.187185</td>\n",
       "      <td>0.268237</td>\n",
       "      <td>46306285</td>\n",
       "      <td>0.769444</td>\n",
       "      <td>snp_11_46306285</td>\n",
       "    </tr>\n",
       "    <tr>\n",
       "      <th>30</th>\n",
       "      <td>12</td>\n",
       "      <td>0.570574</td>\n",
       "      <td>0.412561</td>\n",
       "      <td>46306826</td>\n",
       "      <td>0.729905</td>\n",
       "      <td>snp_11_46306826</td>\n",
       "    </tr>\n",
       "    <tr>\n",
       "      <th>30</th>\n",
       "      <td>12</td>\n",
       "      <td>0.455498</td>\n",
       "      <td>0.516151</td>\n",
       "      <td>46307680</td>\n",
       "      <td>0.795704</td>\n",
       "      <td>snp_11_46307680</td>\n",
       "    </tr>\n",
       "  </tbody>\n",
       "</table>\n",
       "</div>"
      ],
      "text/plain": [
       "                        chrom  lmm-pval  lmm-rank-pval       pos  qep-pval  \\\n",
       "gene            intron                                                       \n",
       "ENSG00000198707 30         12  0.565990       0.406775  46305195  0.725617   \n",
       "                30         12  0.455498       0.516151  46306177  0.795704   \n",
       "                30         12  0.187185       0.268237  46306285  0.769444   \n",
       "                30         12  0.570574       0.412561  46306826  0.729905   \n",
       "                30         12  0.455498       0.516151  46307680  0.795704   \n",
       "\n",
       "                                 snp_id  \n",
       "gene            intron                   \n",
       "ENSG00000198707 30      snp_11_46305195  \n",
       "                30      snp_11_46306177  \n",
       "                30      snp_11_46306285  \n",
       "                30      snp_11_46306826  \n",
       "                30      snp_11_46307680  "
      ]
     },
     "execution_count": 15,
     "metadata": {},
     "output_type": "execute_result"
    }
   ],
   "source": [
    "DF.head()"
   ]
  },
  {
   "cell_type": "code",
   "execution_count": 16,
   "metadata": {
    "collapsed": false
   },
   "outputs": [
    {
     "data": {
      "text/plain": [
       "3.4508181568523267e-24"
      ]
     },
     "execution_count": 16,
     "metadata": {},
     "output_type": "execute_result"
    }
   ],
   "source": [
    "DF['lmm-rank-pval'].min()"
   ]
  },
  {
   "cell_type": "code",
   "execution_count": 13,
   "metadata": {
    "collapsed": false
   },
   "outputs": [
    {
     "data": {
      "text/html": [
       "<div>\n",
       "<table border=\"1\" class=\"dataframe\">\n",
       "  <thead>\n",
       "    <tr style=\"text-align: right;\">\n",
       "      <th></th>\n",
       "      <th></th>\n",
       "      <th>assay</th>\n",
       "      <th>nsuc</th>\n",
       "      <th>ntri</th>\n",
       "    </tr>\n",
       "    <tr>\n",
       "      <th>gene</th>\n",
       "      <th>intron</th>\n",
       "      <th></th>\n",
       "      <th></th>\n",
       "      <th></th>\n",
       "    </tr>\n",
       "  </thead>\n",
       "  <tbody>\n",
       "    <tr>\n",
       "      <th rowspan=\"5\" valign=\"top\">ENSG00000000419</th>\n",
       "      <th>5</th>\n",
       "      <td>HG00096.1.M_111124_6</td>\n",
       "      <td>37</td>\n",
       "      <td>347</td>\n",
       "    </tr>\n",
       "    <tr>\n",
       "      <th>5</th>\n",
       "      <td>HG00097.7.M_120219_2</td>\n",
       "      <td>68</td>\n",
       "      <td>451</td>\n",
       "    </tr>\n",
       "    <tr>\n",
       "      <th>5</th>\n",
       "      <td>HG00099.1.M_120209_6</td>\n",
       "      <td>31</td>\n",
       "      <td>327</td>\n",
       "    </tr>\n",
       "    <tr>\n",
       "      <th>5</th>\n",
       "      <td>HG00099.5.M_120131_3</td>\n",
       "      <td>34</td>\n",
       "      <td>289</td>\n",
       "    </tr>\n",
       "    <tr>\n",
       "      <th>5</th>\n",
       "      <td>HG00100.2.M_111215_8</td>\n",
       "      <td>35</td>\n",
       "      <td>281</td>\n",
       "    </tr>\n",
       "  </tbody>\n",
       "</table>\n",
       "</div>"
      ],
      "text/plain": [
       "                                       assay  nsuc  ntri\n",
       "gene            intron                                  \n",
       "ENSG00000000419 5       HG00096.1.M_111124_6    37   347\n",
       "                5       HG00097.7.M_120219_2    68   451\n",
       "                5       HG00099.1.M_120209_6    31   327\n",
       "                5       HG00099.5.M_120131_3    34   289\n",
       "                5       HG00100.2.M_111215_8    35   281"
      ]
     },
     "execution_count": 13,
     "metadata": {},
     "output_type": "execute_result"
    }
   ],
   "source": [
    "from horta_exp.introns.fetch_data import get_intron_events\n",
    "introns = get_intron_events()\n",
    "introns.head()"
   ]
  },
  {
   "cell_type": "code",
   "execution_count": 17,
   "metadata": {
    "collapsed": false
   },
   "outputs": [
    {
     "data": {
      "text/html": [
       "<div>\n",
       "<table border=\"1\" class=\"dataframe\">\n",
       "  <thead>\n",
       "    <tr style=\"text-align: right;\">\n",
       "      <th></th>\n",
       "      <th></th>\n",
       "      <th>assay</th>\n",
       "      <th>nsuc</th>\n",
       "      <th>ntri</th>\n",
       "    </tr>\n",
       "    <tr>\n",
       "      <th>gene</th>\n",
       "      <th>intron</th>\n",
       "      <th></th>\n",
       "      <th></th>\n",
       "      <th></th>\n",
       "    </tr>\n",
       "  </thead>\n",
       "  <tbody>\n",
       "    <tr>\n",
       "      <th rowspan=\"61\" valign=\"top\">ENSG00000198707</th>\n",
       "      <th>30</th>\n",
       "      <td>HG00096.1.M_111124_6</td>\n",
       "      <td>0</td>\n",
       "      <td>18</td>\n",
       "    </tr>\n",
       "    <tr>\n",
       "      <th>30</th>\n",
       "      <td>HG00097.7.M_120219_2</td>\n",
       "      <td>0</td>\n",
       "      <td>68</td>\n",
       "    </tr>\n",
       "    <tr>\n",
       "      <th>30</th>\n",
       "      <td>HG00099.1.M_120209_6</td>\n",
       "      <td>0</td>\n",
       "      <td>45</td>\n",
       "    </tr>\n",
       "    <tr>\n",
       "      <th>30</th>\n",
       "      <td>HG00099.5.M_120131_3</td>\n",
       "      <td>0</td>\n",
       "      <td>39</td>\n",
       "    </tr>\n",
       "    <tr>\n",
       "      <th>30</th>\n",
       "      <td>HG00100.2.M_111215_8</td>\n",
       "      <td>0</td>\n",
       "      <td>33</td>\n",
       "    </tr>\n",
       "    <tr>\n",
       "      <th>30</th>\n",
       "      <td>HG00101.1.M_111124_4</td>\n",
       "      <td>0</td>\n",
       "      <td>38</td>\n",
       "    </tr>\n",
       "    <tr>\n",
       "      <th>30</th>\n",
       "      <td>HG00102.3.M_120202_8</td>\n",
       "      <td>0</td>\n",
       "      <td>39</td>\n",
       "    </tr>\n",
       "    <tr>\n",
       "      <th>30</th>\n",
       "      <td>HG00103.4.M_120208_3</td>\n",
       "      <td>0</td>\n",
       "      <td>23</td>\n",
       "    </tr>\n",
       "    <tr>\n",
       "      <th>30</th>\n",
       "      <td>HG00104.1.M_111124_5</td>\n",
       "      <td>0</td>\n",
       "      <td>40</td>\n",
       "    </tr>\n",
       "    <tr>\n",
       "      <th>30</th>\n",
       "      <td>HG00105.1.M_120209_7</td>\n",
       "      <td>0</td>\n",
       "      <td>22</td>\n",
       "    </tr>\n",
       "    <tr>\n",
       "      <th>30</th>\n",
       "      <td>HG00105.3.M_120223_6</td>\n",
       "      <td>0</td>\n",
       "      <td>57</td>\n",
       "    </tr>\n",
       "    <tr>\n",
       "      <th>30</th>\n",
       "      <td>HG00106.4.M_120208_5</td>\n",
       "      <td>0</td>\n",
       "      <td>48</td>\n",
       "    </tr>\n",
       "    <tr>\n",
       "      <th>30</th>\n",
       "      <td>HG00108.7.M_120219_2</td>\n",
       "      <td>0</td>\n",
       "      <td>54</td>\n",
       "    </tr>\n",
       "    <tr>\n",
       "      <th>30</th>\n",
       "      <td>HG00109.1.M_120209_4</td>\n",
       "      <td>0</td>\n",
       "      <td>30</td>\n",
       "    </tr>\n",
       "    <tr>\n",
       "      <th>30</th>\n",
       "      <td>HG00110.2.M_120131_2</td>\n",
       "      <td>0</td>\n",
       "      <td>22</td>\n",
       "    </tr>\n",
       "    <tr>\n",
       "      <th>30</th>\n",
       "      <td>HG00111.1.M_120209_8</td>\n",
       "      <td>0</td>\n",
       "      <td>17</td>\n",
       "    </tr>\n",
       "    <tr>\n",
       "      <th>30</th>\n",
       "      <td>HG00111.2.M_111215_4</td>\n",
       "      <td>0</td>\n",
       "      <td>27</td>\n",
       "    </tr>\n",
       "    <tr>\n",
       "      <th>30</th>\n",
       "      <td>HG00112.6.M_120119_2</td>\n",
       "      <td>0</td>\n",
       "      <td>37</td>\n",
       "    </tr>\n",
       "    <tr>\n",
       "      <th>30</th>\n",
       "      <td>HG00114.1.M_120209_3</td>\n",
       "      <td>0</td>\n",
       "      <td>35</td>\n",
       "    </tr>\n",
       "    <tr>\n",
       "      <th>30</th>\n",
       "      <td>HG00114.6.M_120217_1</td>\n",
       "      <td>0</td>\n",
       "      <td>33</td>\n",
       "    </tr>\n",
       "    <tr>\n",
       "      <th>30</th>\n",
       "      <td>HG00115.6.M_120119_1</td>\n",
       "      <td>0</td>\n",
       "      <td>24</td>\n",
       "    </tr>\n",
       "    <tr>\n",
       "      <th>30</th>\n",
       "      <td>HG00116.2.M_120131_1</td>\n",
       "      <td>0</td>\n",
       "      <td>11</td>\n",
       "    </tr>\n",
       "    <tr>\n",
       "      <th>30</th>\n",
       "      <td>HG00117.1.M_111124_2</td>\n",
       "      <td>0</td>\n",
       "      <td>83</td>\n",
       "    </tr>\n",
       "    <tr>\n",
       "      <th>30</th>\n",
       "      <td>HG00118.4.M_120208_5</td>\n",
       "      <td>0</td>\n",
       "      <td>49</td>\n",
       "    </tr>\n",
       "    <tr>\n",
       "      <th>30</th>\n",
       "      <td>HG00119.1.M_120209_3</td>\n",
       "      <td>0</td>\n",
       "      <td>54</td>\n",
       "    </tr>\n",
       "    <tr>\n",
       "      <th>30</th>\n",
       "      <td>HG00119.2.M_111216_6</td>\n",
       "      <td>0</td>\n",
       "      <td>89</td>\n",
       "    </tr>\n",
       "    <tr>\n",
       "      <th>30</th>\n",
       "      <td>HG00120.3.M_120202_2</td>\n",
       "      <td>0</td>\n",
       "      <td>13</td>\n",
       "    </tr>\n",
       "    <tr>\n",
       "      <th>30</th>\n",
       "      <td>HG00121.1.M_111124_7</td>\n",
       "      <td>0</td>\n",
       "      <td>35</td>\n",
       "    </tr>\n",
       "    <tr>\n",
       "      <th>30</th>\n",
       "      <td>HG00122.6.M_120119_1</td>\n",
       "      <td>0</td>\n",
       "      <td>39</td>\n",
       "    </tr>\n",
       "    <tr>\n",
       "      <th>30</th>\n",
       "      <td>HG00123.4.M_120208_7</td>\n",
       "      <td>0</td>\n",
       "      <td>36</td>\n",
       "    </tr>\n",
       "    <tr>\n",
       "      <th>...</th>\n",
       "      <td>...</td>\n",
       "      <td>...</td>\n",
       "      <td>...</td>\n",
       "    </tr>\n",
       "    <tr>\n",
       "      <th>30</th>\n",
       "      <td>NA20785.4.M_120208_1</td>\n",
       "      <td>0</td>\n",
       "      <td>10</td>\n",
       "    </tr>\n",
       "    <tr>\n",
       "      <th>30</th>\n",
       "      <td>NA20786.2.M_111215_8</td>\n",
       "      <td>0</td>\n",
       "      <td>25</td>\n",
       "    </tr>\n",
       "    <tr>\n",
       "      <th>30</th>\n",
       "      <td>NA20787.6.M_120119_3</td>\n",
       "      <td>0</td>\n",
       "      <td>31</td>\n",
       "    </tr>\n",
       "    <tr>\n",
       "      <th>30</th>\n",
       "      <td>NA20790.2.M_111215_6</td>\n",
       "      <td>0</td>\n",
       "      <td>31</td>\n",
       "    </tr>\n",
       "    <tr>\n",
       "      <th>30</th>\n",
       "      <td>NA20792.6.M_120119_6</td>\n",
       "      <td>0</td>\n",
       "      <td>17</td>\n",
       "    </tr>\n",
       "    <tr>\n",
       "      <th>30</th>\n",
       "      <td>NA20795.5.M_120131_1</td>\n",
       "      <td>0</td>\n",
       "      <td>97</td>\n",
       "    </tr>\n",
       "    <tr>\n",
       "      <th>30</th>\n",
       "      <td>NA20796.1.M_120209_2</td>\n",
       "      <td>0</td>\n",
       "      <td>118</td>\n",
       "    </tr>\n",
       "    <tr>\n",
       "      <th>30</th>\n",
       "      <td>NA20797.2.M_111215_6</td>\n",
       "      <td>0</td>\n",
       "      <td>51</td>\n",
       "    </tr>\n",
       "    <tr>\n",
       "      <th>30</th>\n",
       "      <td>NA20798.6.M_120119_6</td>\n",
       "      <td>0</td>\n",
       "      <td>22</td>\n",
       "    </tr>\n",
       "    <tr>\n",
       "      <th>30</th>\n",
       "      <td>NA20799.1.M_111124_3</td>\n",
       "      <td>0</td>\n",
       "      <td>55</td>\n",
       "    </tr>\n",
       "    <tr>\n",
       "      <th>30</th>\n",
       "      <td>NA20800.1.M_111124_5</td>\n",
       "      <td>0</td>\n",
       "      <td>59</td>\n",
       "    </tr>\n",
       "    <tr>\n",
       "      <th>30</th>\n",
       "      <td>NA20801.7.M_120219_5</td>\n",
       "      <td>0</td>\n",
       "      <td>72</td>\n",
       "    </tr>\n",
       "    <tr>\n",
       "      <th>30</th>\n",
       "      <td>NA20802.1.M_111124_7</td>\n",
       "      <td>0</td>\n",
       "      <td>21</td>\n",
       "    </tr>\n",
       "    <tr>\n",
       "      <th>30</th>\n",
       "      <td>NA20803.7.M_120219_1</td>\n",
       "      <td>0</td>\n",
       "      <td>49</td>\n",
       "    </tr>\n",
       "    <tr>\n",
       "      <th>30</th>\n",
       "      <td>NA20804.4.M_120208_1</td>\n",
       "      <td>0</td>\n",
       "      <td>40</td>\n",
       "    </tr>\n",
       "    <tr>\n",
       "      <th>30</th>\n",
       "      <td>NA20805.4.M_120208_7</td>\n",
       "      <td>0</td>\n",
       "      <td>37</td>\n",
       "    </tr>\n",
       "    <tr>\n",
       "      <th>30</th>\n",
       "      <td>NA20806.3.M_120202_5</td>\n",
       "      <td>0</td>\n",
       "      <td>14</td>\n",
       "    </tr>\n",
       "    <tr>\n",
       "      <th>30</th>\n",
       "      <td>NA20807.5.M_120131_1</td>\n",
       "      <td>0</td>\n",
       "      <td>93</td>\n",
       "    </tr>\n",
       "    <tr>\n",
       "      <th>30</th>\n",
       "      <td>NA20808.4.M_120208_6</td>\n",
       "      <td>0</td>\n",
       "      <td>32</td>\n",
       "    </tr>\n",
       "    <tr>\n",
       "      <th>30</th>\n",
       "      <td>NA20809.6.M_120119_2</td>\n",
       "      <td>0</td>\n",
       "      <td>16</td>\n",
       "    </tr>\n",
       "    <tr>\n",
       "      <th>30</th>\n",
       "      <td>NA20810.2.M_111215_7</td>\n",
       "      <td>0</td>\n",
       "      <td>33</td>\n",
       "    </tr>\n",
       "    <tr>\n",
       "      <th>30</th>\n",
       "      <td>NA20811.1.M_111124_5</td>\n",
       "      <td>0</td>\n",
       "      <td>41</td>\n",
       "    </tr>\n",
       "    <tr>\n",
       "      <th>30</th>\n",
       "      <td>NA20812.2.M_111216_6</td>\n",
       "      <td>0</td>\n",
       "      <td>38</td>\n",
       "    </tr>\n",
       "    <tr>\n",
       "      <th>30</th>\n",
       "      <td>NA20813.5.M_120131_1</td>\n",
       "      <td>0</td>\n",
       "      <td>51</td>\n",
       "    </tr>\n",
       "    <tr>\n",
       "      <th>30</th>\n",
       "      <td>NA20814.2.M_111215_6</td>\n",
       "      <td>0</td>\n",
       "      <td>60</td>\n",
       "    </tr>\n",
       "    <tr>\n",
       "      <th>30</th>\n",
       "      <td>NA20815.5.M_120131_5</td>\n",
       "      <td>0</td>\n",
       "      <td>14</td>\n",
       "    </tr>\n",
       "    <tr>\n",
       "      <th>30</th>\n",
       "      <td>NA20816.3.M_120202_7</td>\n",
       "      <td>0</td>\n",
       "      <td>20</td>\n",
       "    </tr>\n",
       "    <tr>\n",
       "      <th>30</th>\n",
       "      <td>NA20819.3.M_120202_2</td>\n",
       "      <td>0</td>\n",
       "      <td>32</td>\n",
       "    </tr>\n",
       "    <tr>\n",
       "      <th>30</th>\n",
       "      <td>NA20826.1.M_111124_1</td>\n",
       "      <td>0</td>\n",
       "      <td>24</td>\n",
       "    </tr>\n",
       "    <tr>\n",
       "      <th>30</th>\n",
       "      <td>NA20828.2.M_111216_8</td>\n",
       "      <td>0</td>\n",
       "      <td>40</td>\n",
       "    </tr>\n",
       "  </tbody>\n",
       "</table>\n",
       "<p>571 rows × 3 columns</p>\n",
       "</div>"
      ],
      "text/plain": [
       "                                       assay  nsuc  ntri\n",
       "gene            intron                                  \n",
       "ENSG00000198707 30      HG00096.1.M_111124_6     0    18\n",
       "                30      HG00097.7.M_120219_2     0    68\n",
       "                30      HG00099.1.M_120209_6     0    45\n",
       "                30      HG00099.5.M_120131_3     0    39\n",
       "                30      HG00100.2.M_111215_8     0    33\n",
       "                30      HG00101.1.M_111124_4     0    38\n",
       "                30      HG00102.3.M_120202_8     0    39\n",
       "                30      HG00103.4.M_120208_3     0    23\n",
       "                30      HG00104.1.M_111124_5     0    40\n",
       "                30      HG00105.1.M_120209_7     0    22\n",
       "                30      HG00105.3.M_120223_6     0    57\n",
       "                30      HG00106.4.M_120208_5     0    48\n",
       "                30      HG00108.7.M_120219_2     0    54\n",
       "                30      HG00109.1.M_120209_4     0    30\n",
       "                30      HG00110.2.M_120131_2     0    22\n",
       "                30      HG00111.1.M_120209_8     0    17\n",
       "                30      HG00111.2.M_111215_4     0    27\n",
       "                30      HG00112.6.M_120119_2     0    37\n",
       "                30      HG00114.1.M_120209_3     0    35\n",
       "                30      HG00114.6.M_120217_1     0    33\n",
       "                30      HG00115.6.M_120119_1     0    24\n",
       "                30      HG00116.2.M_120131_1     0    11\n",
       "                30      HG00117.1.M_111124_2     0    83\n",
       "                30      HG00118.4.M_120208_5     0    49\n",
       "                30      HG00119.1.M_120209_3     0    54\n",
       "                30      HG00119.2.M_111216_6     0    89\n",
       "                30      HG00120.3.M_120202_2     0    13\n",
       "                30      HG00121.1.M_111124_7     0    35\n",
       "                30      HG00122.6.M_120119_1     0    39\n",
       "                30      HG00123.4.M_120208_7     0    36\n",
       "...                                      ...   ...   ...\n",
       "                30      NA20785.4.M_120208_1     0    10\n",
       "                30      NA20786.2.M_111215_8     0    25\n",
       "                30      NA20787.6.M_120119_3     0    31\n",
       "                30      NA20790.2.M_111215_6     0    31\n",
       "                30      NA20792.6.M_120119_6     0    17\n",
       "                30      NA20795.5.M_120131_1     0    97\n",
       "                30      NA20796.1.M_120209_2     0   118\n",
       "                30      NA20797.2.M_111215_6     0    51\n",
       "                30      NA20798.6.M_120119_6     0    22\n",
       "                30      NA20799.1.M_111124_3     0    55\n",
       "                30      NA20800.1.M_111124_5     0    59\n",
       "                30      NA20801.7.M_120219_5     0    72\n",
       "                30      NA20802.1.M_111124_7     0    21\n",
       "                30      NA20803.7.M_120219_1     0    49\n",
       "                30      NA20804.4.M_120208_1     0    40\n",
       "                30      NA20805.4.M_120208_7     0    37\n",
       "                30      NA20806.3.M_120202_5     0    14\n",
       "                30      NA20807.5.M_120131_1     0    93\n",
       "                30      NA20808.4.M_120208_6     0    32\n",
       "                30      NA20809.6.M_120119_2     0    16\n",
       "                30      NA20810.2.M_111215_7     0    33\n",
       "                30      NA20811.1.M_111124_5     0    41\n",
       "                30      NA20812.2.M_111216_6     0    38\n",
       "                30      NA20813.5.M_120131_1     0    51\n",
       "                30      NA20814.2.M_111215_6     0    60\n",
       "                30      NA20815.5.M_120131_5     0    14\n",
       "                30      NA20816.3.M_120202_7     0    20\n",
       "                30      NA20819.3.M_120202_2     0    32\n",
       "                30      NA20826.1.M_111124_1     0    24\n",
       "                30      NA20828.2.M_111216_8     0    40\n",
       "\n",
       "[571 rows x 3 columns]"
      ]
     },
     "execution_count": 17,
     "metadata": {},
     "output_type": "execute_result"
    }
   ],
   "source": [
    "introns.loc[crazy_pheno]"
   ]
  },
  {
   "cell_type": "code",
   "execution_count": 18,
   "metadata": {
    "collapsed": false
   },
   "outputs": [
    {
     "data": {
      "text/plain": [
       "array([0, 1])"
      ]
     },
     "execution_count": 18,
     "metadata": {},
     "output_type": "execute_result"
    }
   ],
   "source": [
    "introns.loc[crazy_pheno]['nsuc'].unique()"
   ]
  },
  {
   "cell_type": "code",
   "execution_count": 21,
   "metadata": {
    "collapsed": false
   },
   "outputs": [
    {
     "data": {
      "text/plain": [
       "3.9504850704414478e-05"
      ]
     },
     "execution_count": 21,
     "metadata": {},
     "output_type": "execute_result"
    }
   ],
   "source": [
    "np.mean(introns.loc[crazy_pheno]['nsuc']/introns.loc[crazy_pheno]['ntri'])"
   ]
  }
 ],
 "metadata": {
  "kernelspec": {
   "display_name": "Python [conda env:default]",
   "language": "python",
   "name": "conda-env-default-py"
  },
  "language_info": {
   "codemirror_mode": {
    "name": "ipython",
    "version": 3
   },
   "file_extension": ".py",
   "mimetype": "text/x-python",
   "name": "python",
   "nbconvert_exporter": "python",
   "pygments_lexer": "ipython3",
   "version": "3.5.2"
  }
 },
 "nbformat": 4,
 "nbformat_minor": 2
}
