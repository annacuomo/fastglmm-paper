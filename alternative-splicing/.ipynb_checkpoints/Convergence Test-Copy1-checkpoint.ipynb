{
 "cells": [
  {
   "cell_type": "code",
   "execution_count": 1,
   "metadata": {
    "collapsed": false
   },
   "outputs": [
    {
     "data": {
      "text/html": [
       "\n",
       "    <div class=\"bk-root\">\n",
       "        <a href=\"http://bokeh.pydata.org\" target=\"_blank\" class=\"bk-logo bk-logo-small bk-logo-notebook\"></a>\n",
       "        <span id=\"f76797ce-b750-4562-9fdb-bc9e15d8aa5d\">Loading BokehJS ...</span>\n",
       "    </div>"
      ]
     },
     "metadata": {},
     "output_type": "display_data"
    },
    {
     "data": {
      "application/javascript": [
       "\n",
       "(function(global) {\n",
       "  function now() {\n",
       "    return new Date();\n",
       "  }\n",
       "\n",
       "  var force = \"1\";\n",
       "\n",
       "  if (typeof (window._bokeh_onload_callbacks) === \"undefined\" || force !== \"\") {\n",
       "    window._bokeh_onload_callbacks = [];\n",
       "    window._bokeh_is_loading = undefined;\n",
       "  }\n",
       "\n",
       "\n",
       "  \n",
       "  if (typeof (window._bokeh_timeout) === \"undefined\" || force !== \"\") {\n",
       "    window._bokeh_timeout = Date.now() + 5000;\n",
       "    window._bokeh_failed_load = false;\n",
       "  }\n",
       "\n",
       "  var NB_LOAD_WARNING = {'data': {'text/html':\n",
       "     \"<div style='background-color: #fdd'>\\n\"+\n",
       "     \"<p>\\n\"+\n",
       "     \"BokehJS does not appear to have successfully loaded. If loading BokehJS from CDN, this \\n\"+\n",
       "     \"may be due to a slow or bad network connection. Possible fixes:\\n\"+\n",
       "     \"</p>\\n\"+\n",
       "     \"<ul>\\n\"+\n",
       "     \"<li>re-rerun `output_notebook()` to attempt to load from CDN again, or</li>\\n\"+\n",
       "     \"<li>use INLINE resources instead, as so:</li>\\n\"+\n",
       "     \"</ul>\\n\"+\n",
       "     \"<code>\\n\"+\n",
       "     \"from bokeh.resources import INLINE\\n\"+\n",
       "     \"output_notebook(resources=INLINE)\\n\"+\n",
       "     \"</code>\\n\"+\n",
       "     \"</div>\"}};\n",
       "\n",
       "  function display_loaded() {\n",
       "    if (window.Bokeh !== undefined) {\n",
       "      Bokeh.$(\"#f76797ce-b750-4562-9fdb-bc9e15d8aa5d\").text(\"BokehJS successfully loaded.\");\n",
       "    } else if (Date.now() < window._bokeh_timeout) {\n",
       "      setTimeout(display_loaded, 100)\n",
       "    }\n",
       "  }\n",
       "\n",
       "  function run_callbacks() {\n",
       "    window._bokeh_onload_callbacks.forEach(function(callback) { callback() });\n",
       "    delete window._bokeh_onload_callbacks\n",
       "    console.info(\"Bokeh: all callbacks have finished\");\n",
       "  }\n",
       "\n",
       "  function load_libs(js_urls, callback) {\n",
       "    window._bokeh_onload_callbacks.push(callback);\n",
       "    if (window._bokeh_is_loading > 0) {\n",
       "      console.log(\"Bokeh: BokehJS is being loaded, scheduling callback at\", now());\n",
       "      return null;\n",
       "    }\n",
       "    if (js_urls == null || js_urls.length === 0) {\n",
       "      run_callbacks();\n",
       "      return null;\n",
       "    }\n",
       "    console.log(\"Bokeh: BokehJS not loaded, scheduling load and callback at\", now());\n",
       "    window._bokeh_is_loading = js_urls.length;\n",
       "    for (var i = 0; i < js_urls.length; i++) {\n",
       "      var url = js_urls[i];\n",
       "      var s = document.createElement('script');\n",
       "      s.src = url;\n",
       "      s.async = false;\n",
       "      s.onreadystatechange = s.onload = function() {\n",
       "        window._bokeh_is_loading--;\n",
       "        if (window._bokeh_is_loading === 0) {\n",
       "          console.log(\"Bokeh: all BokehJS libraries loaded\");\n",
       "          run_callbacks()\n",
       "        }\n",
       "      };\n",
       "      s.onerror = function() {\n",
       "        console.warn(\"failed to load library \" + url);\n",
       "      };\n",
       "      console.log(\"Bokeh: injecting script tag for BokehJS library: \", url);\n",
       "      document.getElementsByTagName(\"head\")[0].appendChild(s);\n",
       "    }\n",
       "  };var element = document.getElementById(\"f76797ce-b750-4562-9fdb-bc9e15d8aa5d\");\n",
       "  if (element == null) {\n",
       "    console.log(\"Bokeh: ERROR: autoload.js configured with elementid 'f76797ce-b750-4562-9fdb-bc9e15d8aa5d' but no matching script tag was found. \")\n",
       "    return false;\n",
       "  }\n",
       "\n",
       "  var js_urls = ['https://cdn.pydata.org/bokeh/release/bokeh-0.12.2.min.js', 'https://cdn.pydata.org/bokeh/release/bokeh-widgets-0.12.2.min.js', 'https://cdn.pydata.org/bokeh/release/bokeh-compiler-0.12.2.min.js'];\n",
       "\n",
       "  var inline_js = [\n",
       "    function(Bokeh) {\n",
       "      Bokeh.set_log_level(\"info\");\n",
       "    },\n",
       "    \n",
       "    function(Bokeh) {\n",
       "      \n",
       "      Bokeh.$(\"#f76797ce-b750-4562-9fdb-bc9e15d8aa5d\").text(\"BokehJS is loading...\");\n",
       "    },\n",
       "    function(Bokeh) {\n",
       "      console.log(\"Bokeh: injecting CSS: https://cdn.pydata.org/bokeh/release/bokeh-0.12.2.min.css\");\n",
       "      Bokeh.embed.inject_css(\"https://cdn.pydata.org/bokeh/release/bokeh-0.12.2.min.css\");\n",
       "      console.log(\"Bokeh: injecting CSS: https://cdn.pydata.org/bokeh/release/bokeh-widgets-0.12.2.min.css\");\n",
       "      Bokeh.embed.inject_css(\"https://cdn.pydata.org/bokeh/release/bokeh-widgets-0.12.2.min.css\");\n",
       "    }\n",
       "  ];\n",
       "\n",
       "  function run_inline_js() {\n",
       "    \n",
       "    if ((window.Bokeh !== undefined) || (force === \"1\")) {\n",
       "      for (var i = 0; i < inline_js.length; i++) {\n",
       "        inline_js[i](window.Bokeh);\n",
       "      }if (force === \"1\") {\n",
       "        display_loaded();\n",
       "      }} else if (Date.now() < window._bokeh_timeout) {\n",
       "      setTimeout(run_inline_js, 100);\n",
       "    } else if (!window._bokeh_failed_load) {\n",
       "      console.log(\"Bokeh: BokehJS failed to load within specified timeout.\");\n",
       "      window._bokeh_failed_load = true;\n",
       "    } else if (!force) {\n",
       "      var cell = $(\"#f76797ce-b750-4562-9fdb-bc9e15d8aa5d\").parents('.cell').data().cell;\n",
       "      cell.output_area.append_execute_result(NB_LOAD_WARNING)\n",
       "    }\n",
       "\n",
       "  }\n",
       "\n",
       "  if (window._bokeh_is_loading === 0) {\n",
       "    console.log(\"Bokeh: BokehJS loaded, going straight to plotting\");\n",
       "    run_inline_js();\n",
       "  } else {\n",
       "    load_libs(js_urls, function() {\n",
       "      console.log(\"Bokeh: BokehJS plotting callback run at\", now());\n",
       "      run_inline_js();\n",
       "    });\n",
       "  }\n",
       "}(this));"
      ]
     },
     "metadata": {},
     "output_type": "display_data"
    }
   ],
   "source": [
    "import pandas as pd\n",
    "import numpy as np\n",
    "\n",
    "from horta_exp.introns.fetch_data import get_intron_events\n",
    "\n",
    "from limix_genetics import hitsplot\n",
    "from bokeh.io import push_notebook, output_notebook\n",
    "from bokeh.models import HoverTool, ColumnDataSource\n",
    "from bokeh.plotting import figure, show, output_file\n",
    "from bokeh.charts import BoxPlot, Bar, Histogram\n",
    "from bokeh.layouts import gridplot\n",
    "\n",
    "FILE = {'real': 'chrom_real_all.pkl', 'null': 'chrom_null_all.pkl'}\n",
    "output_notebook()"
   ]
  },
  {
   "cell_type": "code",
   "execution_count": 2,
   "metadata": {
    "collapsed": true
   },
   "outputs": [],
   "source": [
    "def convert_and_save(filename):\n",
    "    introns = get_intron_events()\n",
    "    df = pd.read_pickle(filename).set_index(['gene', 'intron']).sort_index()\n",
    "    introns = introns.loc[df.index.drop_duplicates()]\n",
    "\n",
    "    introns.to_pickle('introns_%s.pkl' % filename)\n",
    "    df.to_pickle('df_%s.pkl' % filename)\n",
    "    \n",
    "    return (introns, df)"
   ]
  },
  {
   "cell_type": "code",
   "execution_count": 3,
   "metadata": {
    "collapsed": false
   },
   "outputs": [],
   "source": [
    "introns = dict()\n",
    "df = dict()\n",
    "\n",
    "if True:\n",
    "    for n in ['real', 'null']:\n",
    "        introns[n] = pd.read_pickle('introns_%s.pkl' % FILE[n])\n",
    "        df[n] = pd.read_pickle('df_%s.pkl' % FILE[n])\n",
    "else:\n",
    "    for n in ['real', 'null']:\n",
    "        (introns[n], df[n]) = convert_and_save(FILE[n])"
   ]
  },
  {
   "cell_type": "code",
   "execution_count": null,
   "metadata": {
    "collapsed": false
   },
   "outputs": [],
   "source": [
    "npairs = len(df['real'].index.unique())\n",
    "print(\"Number of gene-intron pairs: %d\" % npairs)"
   ]
  },
  {
   "cell_type": "markdown",
   "metadata": {},
   "source": [
    "# Bonferroni correction within gene-introns and aggregate the p-values"
   ]
  },
  {
   "cell_type": "code",
   "execution_count": null,
   "metadata": {
    "collapsed": false
   },
   "outputs": [],
   "source": [
    "def bonferroni_and_aggregate(df):\n",
    "    def pval_agg(x):\n",
    "        return np.clip(np.min(x) * len(x), 0, 1)\n",
    "\n",
    "    return df.groupby(level=[0, 1]).agg({\n",
    "        'lmm-pval': pval_agg,\n",
    "        'lmm-rank-pval': pval_agg,\n",
    "        'qep-pval': pval_agg\n",
    "    })\n",
    "\n",
    "for n in ['real', 'null']:\n",
    "    df[n] = bonferroni_and_aggregate(df[n])"
   ]
  },
  {
   "cell_type": "code",
   "execution_count": null,
   "metadata": {
    "collapsed": false
   },
   "outputs": [],
   "source": [
    "from IPython.display import display\n",
    "for n in ['real', 'null']:\n",
    "    display(df[n].head())"
   ]
  },
  {
   "cell_type": "code",
   "execution_count": null,
   "metadata": {
    "collapsed": true
   },
   "outputs": [],
   "source": [
    "def method_column(df):\n",
    "    newdata = pd.DataFrame(columns=('pval', 'method'))\n",
    "\n",
    "    def append_df(data, df, name):\n",
    "        pval = df['%s-pval' % name]\n",
    "        return pd.concat([data, pd.DataFrame({'pval': pval, 'method': name})])\n",
    "        return data\n",
    "\n",
    "    newdata = append_df(newdata, df, 'lmm')\n",
    "    newdata = append_df(newdata, df, 'lmm-rank')\n",
    "    newdata = append_df(newdata, df, 'qep')\n",
    "    return newdata\n",
    "\n",
    "def set_index(data):\n",
    "    data = method_column(data)\n",
    "    data.reset_index(inplace=True)\n",
    "    data['gene'] = data['index'].apply(lambda x: x[0])\n",
    "    data['intron'] = data['index'].apply(lambda x: int(x[1]))\n",
    "    del data['index']\n",
    "    data.set_index(['gene', 'intron'], inplace=True)\n",
    "    data.sort_index(inplace=True)\n",
    "    return data\n",
    "\n",
    "DF = dict()\n",
    "for n in ['real', 'null']:\n",
    "    DF[n] = set_index(df[n])\n",
    "    DF[n] = DF[n].rename(columns={'method':'label', 'pval':'p-value'})"
   ]
  },
  {
   "cell_type": "code",
   "execution_count": null,
   "metadata": {
    "collapsed": false
   },
   "outputs": [],
   "source": [
    "for n in ['real', 'null']:\n",
    "    display(DF[n].head())"
   ]
  },
  {
   "cell_type": "code",
   "execution_count": null,
   "metadata": {
    "collapsed": false
   },
   "outputs": [],
   "source": [
    "group = introns['real'].groupby(level=[0, 1]).agg({\n",
    "    'ntri': {\n",
    "        'max': 'max',\n",
    "        'min': 'min',\n",
    "        'median': 'median',\n",
    "        'var': 'var',\n",
    "        'mean': 'mean',\n",
    "    }\n",
    "})\n",
    "group.sort_index(inplace=True)"
   ]
  },
  {
   "cell_type": "code",
   "execution_count": null,
   "metadata": {
    "collapsed": false
   },
   "outputs": [],
   "source": [
    "group.head()"
   ]
  },
  {
   "cell_type": "code",
   "execution_count": null,
   "metadata": {
    "collapsed": true
   },
   "outputs": [],
   "source": [
    "def plot_grid(DF, ntri, introns, STAT):\n",
    "    \n",
    "    size = 400\n",
    "    colors={'lmm': 'blue', 'qep': 'red', 'lmm-rank': 'green'}\n",
    "    \n",
    "    df = DF['real'].loc[ntri.index].copy()\n",
    "    df['p-value'] = np.clip(df['p-value'] * npairs, 0, 1)\n",
    "    \n",
    "    f0 = hitsplot(df,\n",
    "                  colors=colors,\n",
    "         perc=True, width=size, height=size, min_threshold=1e-5, max_threshold=1e-2,\n",
    "        show=False)\n",
    "    \n",
    "    df = DF['null'].loc[ntri.index].copy()\n",
    "    df['p-value'] = np.clip(df['p-value'] * npairs, 0, 1)\n",
    "    \n",
    "    f1 = hitsplot(df, colors=colors,\n",
    "         perc=True, width=size, height=size, min_threshold=1e-5, max_threshold=1e-2,\n",
    "        show=False)\n",
    "\n",
    "    \n",
    "    def choice(vals):\n",
    "        return np.random.RandomState(0).choice(vals, min(5000, len(vals)))\n",
    "    \n",
    "    ntris = choice(introns.loc[ntri.index]['ntri'].values)\n",
    "    h0 = Histogram(ntris, title=\"Number of trials - across samples\",\n",
    "                   tools=['save'], xlabel='number of trials',\n",
    "                   width=size, height=size)\n",
    "    \n",
    "    values = choice(ntri[STAT].values)\n",
    "    h1 = Histogram(values, title=\"%s number of trials - across gene-intron pairs\" % STAT,\n",
    "                   tools=['save'], xlabel='number of trials', width=size, height=size)\n",
    "    \n",
    "    \n",
    "    show(gridplot([[f0, f1], [h0, h1]]))"
   ]
  },
  {
   "cell_type": "code",
   "execution_count": null,
   "metadata": {
    "collapsed": false
   },
   "outputs": [],
   "source": [
    "ntri = group['ntri'].copy()\n",
    "ntri = ntri[ntri['min'] > 30]\n",
    "ntri = ntri[ntri['var'] < ntri['var'].quantile(0.10)]\n",
    "plot_grid(DF, ntri, introns['real'], 'min')"
   ]
  },
  {
   "cell_type": "code",
   "execution_count": null,
   "metadata": {
    "collapsed": false
   },
   "outputs": [],
   "source": [
    "ntri = group['ntri'].copy()\n",
    "ntri = ntri[ntri['min'] > 30]\n",
    "ntri = ntri[ntri['var'] < ntri['var'].quantile(0.20)]\n",
    "plot_grid(DF, ntri, introns['real'], 'min')"
   ]
  },
  {
   "cell_type": "code",
   "execution_count": null,
   "metadata": {
    "collapsed": false
   },
   "outputs": [],
   "source": [
    "ntri = group['ntri'].copy()\n",
    "ntri = ntri[ntri['min'] > 30]\n",
    "ntri = ntri[ntri['var'] < ntri['var'].quantile(0.30)]\n",
    "plot_grid(DF, ntri, introns['real'], 'min')"
   ]
  },
  {
   "cell_type": "code",
   "execution_count": null,
   "metadata": {
    "collapsed": false
   },
   "outputs": [],
   "source": [
    "ntri = group['ntri'].copy()\n",
    "ntri = ntri[ntri['min'] > 30]\n",
    "ntri = ntri[ntri['var'] < ntri['var'].quantile(0.40)]\n",
    "plot_grid(DF, ntri, introns['real'], 'min')"
   ]
  },
  {
   "cell_type": "code",
   "execution_count": null,
   "metadata": {
    "collapsed": true
   },
   "outputs": [],
   "source": []
  }
 ],
 "metadata": {
  "anaconda-cloud": {},
  "kernelspec": {
   "display_name": "Python [conda env:default]",
   "language": "python",
   "name": "conda-env-default-py"
  },
  "language_info": {
   "codemirror_mode": {
    "name": "ipython",
    "version": 3
   },
   "file_extension": ".py",
   "mimetype": "text/x-python",
   "name": "python",
   "nbconvert_exporter": "python",
   "pygments_lexer": "ipython3",
   "version": "3.5.2"
  }
 },
 "nbformat": 4,
 "nbformat_minor": 1
}
