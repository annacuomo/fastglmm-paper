{
 "cells": [
  {
   "cell_type": "code",
   "execution_count": 5,
   "metadata": {
    "collapsed": true
   },
   "outputs": [],
   "source": [
    "import pandas as pd"
   ]
  },
  {
   "cell_type": "code",
   "execution_count": 6,
   "metadata": {
    "collapsed": false
   },
   "outputs": [],
   "source": [
    "df = pd.read_pickle('chrom_22.pkl')"
   ]
  },
  {
   "cell_type": "code",
   "execution_count": 7,
   "metadata": {
    "collapsed": false
   },
   "outputs": [
    {
     "data": {
      "text/html": [
       "<div>\n",
       "<table border=\"1\" class=\"dataframe\">\n",
       "  <thead>\n",
       "    <tr style=\"text-align: right;\">\n",
       "      <th></th>\n",
       "      <th>chrom</th>\n",
       "      <th>gene</th>\n",
       "      <th>intron</th>\n",
       "      <th>lmm-pval</th>\n",
       "      <th>pos</th>\n",
       "      <th>qep-pval</th>\n",
       "      <th>snp_id</th>\n",
       "    </tr>\n",
       "  </thead>\n",
       "  <tbody>\n",
       "    <tr>\n",
       "      <th>0</th>\n",
       "      <td>22</td>\n",
       "      <td>ENSG00000015475</td>\n",
       "      <td>6</td>\n",
       "      <td>0.836790</td>\n",
       "      <td>18227957</td>\n",
       "      <td>0.770866</td>\n",
       "      <td>snp_22_18227957</td>\n",
       "    </tr>\n",
       "    <tr>\n",
       "      <th>1</th>\n",
       "      <td>22</td>\n",
       "      <td>ENSG00000015475</td>\n",
       "      <td>6</td>\n",
       "      <td>0.836790</td>\n",
       "      <td>18227978</td>\n",
       "      <td>0.770866</td>\n",
       "      <td>snp_22_18227978</td>\n",
       "    </tr>\n",
       "    <tr>\n",
       "      <th>2</th>\n",
       "      <td>22</td>\n",
       "      <td>ENSG00000015475</td>\n",
       "      <td>6</td>\n",
       "      <td>0.836790</td>\n",
       "      <td>18228127</td>\n",
       "      <td>0.770866</td>\n",
       "      <td>snp_22_18228127</td>\n",
       "    </tr>\n",
       "    <tr>\n",
       "      <th>3</th>\n",
       "      <td>22</td>\n",
       "      <td>ENSG00000015475</td>\n",
       "      <td>6</td>\n",
       "      <td>0.895987</td>\n",
       "      <td>18228505</td>\n",
       "      <td>0.787397</td>\n",
       "      <td>snp_22_18228505</td>\n",
       "    </tr>\n",
       "    <tr>\n",
       "      <th>4</th>\n",
       "      <td>22</td>\n",
       "      <td>ENSG00000015475</td>\n",
       "      <td>6</td>\n",
       "      <td>0.245580</td>\n",
       "      <td>18228653</td>\n",
       "      <td>0.277546</td>\n",
       "      <td>snp_22_18228653</td>\n",
       "    </tr>\n",
       "  </tbody>\n",
       "</table>\n",
       "</div>"
      ],
      "text/plain": [
       "   chrom             gene  intron  lmm-pval       pos  qep-pval  \\\n",
       "0     22  ENSG00000015475       6  0.836790  18227957  0.770866   \n",
       "1     22  ENSG00000015475       6  0.836790  18227978  0.770866   \n",
       "2     22  ENSG00000015475       6  0.836790  18228127  0.770866   \n",
       "3     22  ENSG00000015475       6  0.895987  18228505  0.787397   \n",
       "4     22  ENSG00000015475       6  0.245580  18228653  0.277546   \n",
       "\n",
       "            snp_id  \n",
       "0  snp_22_18227957  \n",
       "1  snp_22_18227978  \n",
       "2  snp_22_18228127  \n",
       "3  snp_22_18228505  \n",
       "4  snp_22_18228653  "
      ]
     },
     "execution_count": 7,
     "metadata": {},
     "output_type": "execute_result"
    }
   ],
   "source": [
    "df.head()"
   ]
  }
 ],
 "metadata": {
  "kernelspec": {
   "display_name": "Python [conda env:py35]",
   "language": "python",
   "name": "conda-env-py35-py"
  },
  "language_info": {
   "codemirror_mode": {
    "name": "ipython",
    "version": 3
   },
   "file_extension": ".py",
   "mimetype": "text/x-python",
   "name": "python",
   "nbconvert_exporter": "python",
   "pygments_lexer": "ipython3",
   "version": "3.5.2"
  }
 },
 "nbformat": 4,
 "nbformat_minor": 1
}
