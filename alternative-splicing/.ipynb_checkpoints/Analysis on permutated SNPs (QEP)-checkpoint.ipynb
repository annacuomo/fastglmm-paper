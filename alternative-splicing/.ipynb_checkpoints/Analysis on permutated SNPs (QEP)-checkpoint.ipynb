{
 "cells": [
  {
   "cell_type": "code",
   "execution_count": 1,
   "metadata": {
    "collapsed": true
   },
   "outputs": [],
   "source": [
    "import pandas as pd\n",
    "import numpy as np"
   ]
  },
  {
   "cell_type": "code",
   "execution_count": 2,
   "metadata": {
    "collapsed": true
   },
   "outputs": [],
   "source": [
    "chrom = 22\n",
    "df = pd.read_pickle('chrom_%d_perm.pkl' % chrom)"
   ]
  },
  {
   "cell_type": "code",
   "execution_count": 3,
   "metadata": {
    "collapsed": false
   },
   "outputs": [
    {
     "data": {
      "text/html": [
       "<div>\n",
       "<table border=\"1\" class=\"dataframe\">\n",
       "  <thead>\n",
       "    <tr style=\"text-align: right;\">\n",
       "      <th></th>\n",
       "      <th>chrom</th>\n",
       "      <th>gene</th>\n",
       "      <th>intron</th>\n",
       "      <th>lmm-pval</th>\n",
       "      <th>pos</th>\n",
       "      <th>qep-pval</th>\n",
       "      <th>snp_id</th>\n",
       "    </tr>\n",
       "  </thead>\n",
       "  <tbody>\n",
       "    <tr>\n",
       "      <th>0</th>\n",
       "      <td>22</td>\n",
       "      <td>ENSG00000015475</td>\n",
       "      <td>6</td>\n",
       "      <td>0.488160</td>\n",
       "      <td>18183494</td>\n",
       "      <td>0.442632</td>\n",
       "      <td>snp_22_18183494</td>\n",
       "    </tr>\n",
       "    <tr>\n",
       "      <th>1</th>\n",
       "      <td>22</td>\n",
       "      <td>ENSG00000015475</td>\n",
       "      <td>6</td>\n",
       "      <td>0.512587</td>\n",
       "      <td>18183623</td>\n",
       "      <td>0.703575</td>\n",
       "      <td>snp_22_18183623</td>\n",
       "    </tr>\n",
       "    <tr>\n",
       "      <th>2</th>\n",
       "      <td>22</td>\n",
       "      <td>ENSG00000015475</td>\n",
       "      <td>6</td>\n",
       "      <td>0.047945</td>\n",
       "      <td>18183724</td>\n",
       "      <td>0.059372</td>\n",
       "      <td>snp_22_18183724</td>\n",
       "    </tr>\n",
       "    <tr>\n",
       "      <th>3</th>\n",
       "      <td>22</td>\n",
       "      <td>ENSG00000015475</td>\n",
       "      <td>6</td>\n",
       "      <td>0.513477</td>\n",
       "      <td>18184011</td>\n",
       "      <td>0.493602</td>\n",
       "      <td>snp_22_18184011</td>\n",
       "    </tr>\n",
       "    <tr>\n",
       "      <th>4</th>\n",
       "      <td>22</td>\n",
       "      <td>ENSG00000015475</td>\n",
       "      <td>6</td>\n",
       "      <td>0.379372</td>\n",
       "      <td>18184169</td>\n",
       "      <td>0.429686</td>\n",
       "      <td>snp_22_18184169</td>\n",
       "    </tr>\n",
       "  </tbody>\n",
       "</table>\n",
       "</div>"
      ],
      "text/plain": [
       "   chrom             gene  intron  lmm-pval       pos  qep-pval  \\\n",
       "0     22  ENSG00000015475       6  0.488160  18183494  0.442632   \n",
       "1     22  ENSG00000015475       6  0.512587  18183623  0.703575   \n",
       "2     22  ENSG00000015475       6  0.047945  18183724  0.059372   \n",
       "3     22  ENSG00000015475       6  0.513477  18184011  0.493602   \n",
       "4     22  ENSG00000015475       6  0.379372  18184169  0.429686   \n",
       "\n",
       "            snp_id  \n",
       "0  snp_22_18183494  \n",
       "1  snp_22_18183623  \n",
       "2  snp_22_18183724  \n",
       "3  snp_22_18184011  \n",
       "4  snp_22_18184169  "
      ]
     },
     "execution_count": 3,
     "metadata": {},
     "output_type": "execute_result"
    }
   ],
   "source": [
    "df.head()"
   ]
  },
  {
   "cell_type": "code",
   "execution_count": 4,
   "metadata": {
    "collapsed": true
   },
   "outputs": [],
   "source": [
    "df.set_index(['gene', 'intron'], inplace=True)\n",
    "df.sort_index(inplace=True)"
   ]
  },
  {
   "cell_type": "code",
   "execution_count": 5,
   "metadata": {
    "collapsed": false
   },
   "outputs": [
    {
     "data": {
      "text/html": [
       "<div>\n",
       "<table border=\"1\" class=\"dataframe\">\n",
       "  <thead>\n",
       "    <tr style=\"text-align: right;\">\n",
       "      <th></th>\n",
       "      <th></th>\n",
       "      <th>chrom</th>\n",
       "      <th>lmm-pval</th>\n",
       "      <th>pos</th>\n",
       "      <th>qep-pval</th>\n",
       "      <th>snp_id</th>\n",
       "    </tr>\n",
       "    <tr>\n",
       "      <th>gene</th>\n",
       "      <th>intron</th>\n",
       "      <th></th>\n",
       "      <th></th>\n",
       "      <th></th>\n",
       "      <th></th>\n",
       "      <th></th>\n",
       "    </tr>\n",
       "  </thead>\n",
       "  <tbody>\n",
       "    <tr>\n",
       "      <th rowspan=\"5\" valign=\"top\">ENSG00000015475</th>\n",
       "      <th>6</th>\n",
       "      <td>22</td>\n",
       "      <td>0.488160</td>\n",
       "      <td>18183494</td>\n",
       "      <td>0.442632</td>\n",
       "      <td>snp_22_18183494</td>\n",
       "    </tr>\n",
       "    <tr>\n",
       "      <th>6</th>\n",
       "      <td>22</td>\n",
       "      <td>0.512587</td>\n",
       "      <td>18183623</td>\n",
       "      <td>0.703575</td>\n",
       "      <td>snp_22_18183623</td>\n",
       "    </tr>\n",
       "    <tr>\n",
       "      <th>6</th>\n",
       "      <td>22</td>\n",
       "      <td>0.047945</td>\n",
       "      <td>18183724</td>\n",
       "      <td>0.059372</td>\n",
       "      <td>snp_22_18183724</td>\n",
       "    </tr>\n",
       "    <tr>\n",
       "      <th>6</th>\n",
       "      <td>22</td>\n",
       "      <td>0.513477</td>\n",
       "      <td>18184011</td>\n",
       "      <td>0.493602</td>\n",
       "      <td>snp_22_18184011</td>\n",
       "    </tr>\n",
       "    <tr>\n",
       "      <th>6</th>\n",
       "      <td>22</td>\n",
       "      <td>0.379372</td>\n",
       "      <td>18184169</td>\n",
       "      <td>0.429686</td>\n",
       "      <td>snp_22_18184169</td>\n",
       "    </tr>\n",
       "  </tbody>\n",
       "</table>\n",
       "</div>"
      ],
      "text/plain": [
       "                        chrom  lmm-pval       pos  qep-pval           snp_id\n",
       "gene            intron                                                      \n",
       "ENSG00000015475 6          22  0.488160  18183494  0.442632  snp_22_18183494\n",
       "                6          22  0.512587  18183623  0.703575  snp_22_18183623\n",
       "                6          22  0.047945  18183724  0.059372  snp_22_18183724\n",
       "                6          22  0.513477  18184011  0.493602  snp_22_18184011\n",
       "                6          22  0.379372  18184169  0.429686  snp_22_18184169"
      ]
     },
     "execution_count": 5,
     "metadata": {},
     "output_type": "execute_result"
    }
   ],
   "source": [
    "df.head()"
   ]
  },
  {
   "cell_type": "markdown",
   "metadata": {},
   "source": [
    "# Bonferroni correction"
   ]
  },
  {
   "cell_type": "code",
   "execution_count": 6,
   "metadata": {
    "collapsed": false
   },
   "outputs": [
    {
     "name": "stdout",
     "output_type": "stream",
     "text": [
      "Number of tests: 815240\n"
     ]
    }
   ],
   "source": [
    "ntests = len(df)\n",
    "print(\"Number of tests: %d\" % ntests)\n",
    "df['lmm-pval'] = np.clip(df['lmm-pval'] * ntests, 0, 1)\n",
    "df['qep-pval'] = np.clip(df['qep-pval'] * ntests, 0, 1)"
   ]
  },
  {
   "cell_type": "code",
   "execution_count": 7,
   "metadata": {
    "collapsed": false
   },
   "outputs": [
    {
     "data": {
      "text/html": [
       "<div>\n",
       "<table border=\"1\" class=\"dataframe\">\n",
       "  <thead>\n",
       "    <tr style=\"text-align: right;\">\n",
       "      <th></th>\n",
       "      <th></th>\n",
       "      <th>chrom</th>\n",
       "      <th>lmm-pval</th>\n",
       "      <th>pos</th>\n",
       "      <th>qep-pval</th>\n",
       "      <th>snp_id</th>\n",
       "    </tr>\n",
       "    <tr>\n",
       "      <th>gene</th>\n",
       "      <th>intron</th>\n",
       "      <th></th>\n",
       "      <th></th>\n",
       "      <th></th>\n",
       "      <th></th>\n",
       "      <th></th>\n",
       "    </tr>\n",
       "  </thead>\n",
       "  <tbody>\n",
       "    <tr>\n",
       "      <th rowspan=\"5\" valign=\"top\">ENSG00000015475</th>\n",
       "      <th>6</th>\n",
       "      <td>22</td>\n",
       "      <td>1.0</td>\n",
       "      <td>18183494</td>\n",
       "      <td>1.0</td>\n",
       "      <td>snp_22_18183494</td>\n",
       "    </tr>\n",
       "    <tr>\n",
       "      <th>6</th>\n",
       "      <td>22</td>\n",
       "      <td>1.0</td>\n",
       "      <td>18183623</td>\n",
       "      <td>1.0</td>\n",
       "      <td>snp_22_18183623</td>\n",
       "    </tr>\n",
       "    <tr>\n",
       "      <th>6</th>\n",
       "      <td>22</td>\n",
       "      <td>1.0</td>\n",
       "      <td>18183724</td>\n",
       "      <td>1.0</td>\n",
       "      <td>snp_22_18183724</td>\n",
       "    </tr>\n",
       "    <tr>\n",
       "      <th>6</th>\n",
       "      <td>22</td>\n",
       "      <td>1.0</td>\n",
       "      <td>18184011</td>\n",
       "      <td>1.0</td>\n",
       "      <td>snp_22_18184011</td>\n",
       "    </tr>\n",
       "    <tr>\n",
       "      <th>6</th>\n",
       "      <td>22</td>\n",
       "      <td>1.0</td>\n",
       "      <td>18184169</td>\n",
       "      <td>1.0</td>\n",
       "      <td>snp_22_18184169</td>\n",
       "    </tr>\n",
       "  </tbody>\n",
       "</table>\n",
       "</div>"
      ],
      "text/plain": [
       "                        chrom  lmm-pval       pos  qep-pval           snp_id\n",
       "gene            intron                                                      \n",
       "ENSG00000015475 6          22       1.0  18183494       1.0  snp_22_18183494\n",
       "                6          22       1.0  18183623       1.0  snp_22_18183623\n",
       "                6          22       1.0  18183724       1.0  snp_22_18183724\n",
       "                6          22       1.0  18184011       1.0  snp_22_18184011\n",
       "                6          22       1.0  18184169       1.0  snp_22_18184169"
      ]
     },
     "execution_count": 7,
     "metadata": {},
     "output_type": "execute_result"
    }
   ],
   "source": [
    "df.head()"
   ]
  },
  {
   "cell_type": "code",
   "execution_count": 8,
   "metadata": {
    "collapsed": false
   },
   "outputs": [
    {
     "data": {
      "text/html": [
       "\n",
       "    <div class=\"bk-root\">\n",
       "        <a href=\"http://bokeh.pydata.org\" target=\"_blank\" class=\"bk-logo bk-logo-small bk-logo-notebook\"></a>\n",
       "        <span id=\"1720ccf5-c07c-4d1c-8378-8c29680da59e\">Loading BokehJS ...</span>\n",
       "    </div>"
      ]
     },
     "metadata": {},
     "output_type": "display_data"
    },
    {
     "data": {
      "application/javascript": [
       "\n",
       "(function(global) {\n",
       "  function now() {\n",
       "    return new Date();\n",
       "  }\n",
       "\n",
       "  var force = \"1\";\n",
       "\n",
       "  if (typeof (window._bokeh_onload_callbacks) === \"undefined\" || force !== \"\") {\n",
       "    window._bokeh_onload_callbacks = [];\n",
       "    window._bokeh_is_loading = undefined;\n",
       "  }\n",
       "\n",
       "\n",
       "  \n",
       "  if (typeof (window._bokeh_timeout) === \"undefined\" || force !== \"\") {\n",
       "    window._bokeh_timeout = Date.now() + 5000;\n",
       "    window._bokeh_failed_load = false;\n",
       "  }\n",
       "\n",
       "  var NB_LOAD_WARNING = {'data': {'text/html':\n",
       "     \"<div style='background-color: #fdd'>\\n\"+\n",
       "     \"<p>\\n\"+\n",
       "     \"BokehJS does not appear to have successfully loaded. If loading BokehJS from CDN, this \\n\"+\n",
       "     \"may be due to a slow or bad network connection. Possible fixes:\\n\"+\n",
       "     \"</p>\\n\"+\n",
       "     \"<ul>\\n\"+\n",
       "     \"<li>re-rerun `output_notebook()` to attempt to load from CDN again, or</li>\\n\"+\n",
       "     \"<li>use INLINE resources instead, as so:</li>\\n\"+\n",
       "     \"</ul>\\n\"+\n",
       "     \"<code>\\n\"+\n",
       "     \"from bokeh.resources import INLINE\\n\"+\n",
       "     \"output_notebook(resources=INLINE)\\n\"+\n",
       "     \"</code>\\n\"+\n",
       "     \"</div>\"}};\n",
       "\n",
       "  function display_loaded() {\n",
       "    if (window.Bokeh !== undefined) {\n",
       "      Bokeh.$(\"#1720ccf5-c07c-4d1c-8378-8c29680da59e\").text(\"BokehJS successfully loaded.\");\n",
       "    } else if (Date.now() < window._bokeh_timeout) {\n",
       "      setTimeout(display_loaded, 100)\n",
       "    }\n",
       "  }\n",
       "\n",
       "  function run_callbacks() {\n",
       "    window._bokeh_onload_callbacks.forEach(function(callback) { callback() });\n",
       "    delete window._bokeh_onload_callbacks\n",
       "    console.info(\"Bokeh: all callbacks have finished\");\n",
       "  }\n",
       "\n",
       "  function load_libs(js_urls, callback) {\n",
       "    window._bokeh_onload_callbacks.push(callback);\n",
       "    if (window._bokeh_is_loading > 0) {\n",
       "      console.log(\"Bokeh: BokehJS is being loaded, scheduling callback at\", now());\n",
       "      return null;\n",
       "    }\n",
       "    if (js_urls == null || js_urls.length === 0) {\n",
       "      run_callbacks();\n",
       "      return null;\n",
       "    }\n",
       "    console.log(\"Bokeh: BokehJS not loaded, scheduling load and callback at\", now());\n",
       "    window._bokeh_is_loading = js_urls.length;\n",
       "    for (var i = 0; i < js_urls.length; i++) {\n",
       "      var url = js_urls[i];\n",
       "      var s = document.createElement('script');\n",
       "      s.src = url;\n",
       "      s.async = false;\n",
       "      s.onreadystatechange = s.onload = function() {\n",
       "        window._bokeh_is_loading--;\n",
       "        if (window._bokeh_is_loading === 0) {\n",
       "          console.log(\"Bokeh: all BokehJS libraries loaded\");\n",
       "          run_callbacks()\n",
       "        }\n",
       "      };\n",
       "      s.onerror = function() {\n",
       "        console.warn(\"failed to load library \" + url);\n",
       "      };\n",
       "      console.log(\"Bokeh: injecting script tag for BokehJS library: \", url);\n",
       "      document.getElementsByTagName(\"head\")[0].appendChild(s);\n",
       "    }\n",
       "  };var element = document.getElementById(\"1720ccf5-c07c-4d1c-8378-8c29680da59e\");\n",
       "  if (element == null) {\n",
       "    console.log(\"Bokeh: ERROR: autoload.js configured with elementid '1720ccf5-c07c-4d1c-8378-8c29680da59e' but no matching script tag was found. \")\n",
       "    return false;\n",
       "  }\n",
       "\n",
       "  var js_urls = ['https://cdn.pydata.org/bokeh/release/bokeh-0.12.3.min.js', 'https://cdn.pydata.org/bokeh/release/bokeh-widgets-0.12.3.min.js'];\n",
       "\n",
       "  var inline_js = [\n",
       "    function(Bokeh) {\n",
       "      Bokeh.set_log_level(\"info\");\n",
       "    },\n",
       "    \n",
       "    function(Bokeh) {\n",
       "      \n",
       "      Bokeh.$(\"#1720ccf5-c07c-4d1c-8378-8c29680da59e\").text(\"BokehJS is loading...\");\n",
       "    },\n",
       "    function(Bokeh) {\n",
       "      console.log(\"Bokeh: injecting CSS: https://cdn.pydata.org/bokeh/release/bokeh-0.12.3.min.css\");\n",
       "      Bokeh.embed.inject_css(\"https://cdn.pydata.org/bokeh/release/bokeh-0.12.3.min.css\");\n",
       "      console.log(\"Bokeh: injecting CSS: https://cdn.pydata.org/bokeh/release/bokeh-widgets-0.12.3.min.css\");\n",
       "      Bokeh.embed.inject_css(\"https://cdn.pydata.org/bokeh/release/bokeh-widgets-0.12.3.min.css\");\n",
       "    }\n",
       "  ];\n",
       "\n",
       "  function run_inline_js() {\n",
       "    \n",
       "    if ((window.Bokeh !== undefined) || (force === \"1\")) {\n",
       "      for (var i = 0; i < inline_js.length; i++) {\n",
       "        inline_js[i](window.Bokeh);\n",
       "      }if (force === \"1\") {\n",
       "        display_loaded();\n",
       "      }} else if (Date.now() < window._bokeh_timeout) {\n",
       "      setTimeout(run_inline_js, 100);\n",
       "    } else if (!window._bokeh_failed_load) {\n",
       "      console.log(\"Bokeh: BokehJS failed to load within specified timeout.\");\n",
       "      window._bokeh_failed_load = true;\n",
       "    } else if (!force) {\n",
       "      var cell = $(\"#1720ccf5-c07c-4d1c-8378-8c29680da59e\").parents('.cell').data().cell;\n",
       "      cell.output_area.append_execute_result(NB_LOAD_WARNING)\n",
       "    }\n",
       "\n",
       "  }\n",
       "\n",
       "  if (window._bokeh_is_loading === 0) {\n",
       "    console.log(\"Bokeh: BokehJS loaded, going straight to plotting\");\n",
       "    run_inline_js();\n",
       "  } else {\n",
       "    load_libs(js_urls, function() {\n",
       "      console.log(\"Bokeh: BokehJS plotting callback run at\", now());\n",
       "      run_inline_js();\n",
       "    });\n",
       "  }\n",
       "}(this));"
      ]
     },
     "metadata": {},
     "output_type": "display_data"
    }
   ],
   "source": [
    "from bokeh.io import push_notebook, output_notebook\n",
    "from bokeh.models import HoverTool, ColumnDataSource\n",
    "from bokeh.plotting import figure, show, output_file\n",
    "output_notebook()"
   ]
  },
  {
   "cell_type": "code",
   "execution_count": null,
   "metadata": {
    "collapsed": true
   },
   "outputs": [],
   "source": [
    "def manhattan(method, color, df0):\n",
    "    p = figure(title = \"%s :: chromossome %d\" % (method.upper(), chrom),\n",
    "               tools=['hover,zoom_in,zoom_out,box_zoom,save,pan,reset'], width=900)\n",
    "    source = ColumnDataSource(data=dict(\n",
    "        xname=df0['pos'],\n",
    "        yname=-np.log10(df0['%s-pval' % method]),\n",
    "        gene=[i[0] for i in df0.index.values],\n",
    "        intron=[i[1] for i in df0.index.values],\n",
    "        snp_id=df0['snp_id'],\n",
    "        pval=df0['%s-pval' % method.lower()],\n",
    "        pos=df0['pos']\n",
    "    ))\n",
    "    p.circle('xname', 'yname', source=source, color=color,\n",
    "             fill_alpha=0.2, line_width=0, line_color=None)\n",
    "    p.select_one(HoverTool).tooltips = [\n",
    "        ('gene', '@gene'),\n",
    "        ('intron', '@intron'),\n",
    "        ('snp_id', '@snp_id'),\n",
    "        ('pos', '@pos'),\n",
    "        ('p-value', '@pval'),\n",
    "    ]\n",
    "    show(p)"
   ]
  },
  {
   "cell_type": "code",
   "execution_count": null,
   "metadata": {
    "collapsed": false
   },
   "outputs": [],
   "source": [
    "manhattan('qep', 'red', df)"
   ]
  }
 ],
 "metadata": {
  "anaconda-cloud": {},
  "kernelspec": {
   "display_name": "Python [conda env:py35]",
   "language": "python",
   "name": "conda-env-py35-py"
  },
  "language_info": {
   "codemirror_mode": {
    "name": "ipython",
    "version": 3
   },
   "file_extension": ".py",
   "mimetype": "text/x-python",
   "name": "python",
   "nbconvert_exporter": "python",
   "pygments_lexer": "ipython3",
   "version": "3.5.2"
  }
 },
 "nbformat": 4,
 "nbformat_minor": 1
}
