{
 "cells": [
  {
   "cell_type": "code",
   "execution_count": null,
   "metadata": {
    "collapsed": true
   },
   "outputs": [],
   "source": [
    "import pandas as pd\n",
    "import numpy as np\n",
    "\n",
    "from bokeh.io import push_notebook, output_notebook\n",
    "from bokeh.models import HoverTool, ColumnDataSource\n",
    "from bokeh.plotting import figure, show, output_file\n",
    "\n",
    "\n",
    "import numpy as np\n",
    "import colour\n",
    "from scipy.special import betaincinv\n",
    "from limix_plot import cycler_ as cycler\n",
    "from collections import OrderedDict\n",
    "from numpy import asarray as asa"
   ]
  },
  {
   "cell_type": "code",
   "execution_count": null,
   "metadata": {
    "collapsed": true
   },
   "outputs": [],
   "source": [
    "output_notebook()"
   ]
  },
  {
   "cell_type": "code",
   "execution_count": null,
   "metadata": {
    "collapsed": true
   },
   "outputs": [],
   "source": [
    "df = pd.read_pickle('chrom_null.pkl')\n",
    "df.set_index(['gene', 'intron'], inplace=True)\n",
    "df.sort_index(inplace=True)\n",
    "df.head()"
   ]
  },
  {
   "cell_type": "code",
   "execution_count": null,
   "metadata": {
    "collapsed": true
   },
   "outputs": [],
   "source": [
    "def expected(n):\n",
    "    lnpv = np.linspace(1/(n+1), n/(n+1), n, endpoint=True)\n",
    "    return np.flipud(-np.log10(lnpv))\n",
    "\n",
    "def xy(pv):\n",
    "    \n",
    "    return \n",
    "\n",
    "def rank_confidence_band(nranks):\n",
    "    alpha = 0.01\n",
    "    n = nranks\n",
    "    k0 = np.arange(1, n+1)\n",
    "    k1 = np.flipud(k0).copy()\n",
    "    mean = k0 / (n + 1)\n",
    "    return mean\n",
    "\n",
    "def qqplot(p, method, color, df0, thr=1e-1, fill_alpha=0.2):\n",
    "    \n",
    "    pv = df0['%s-pval' % method].values[:]\n",
    "    lpv = -np.log10(pv)\n",
    "    lpv_sort = np.argsort(lpv)\n",
    "    expected_lpv = expected(len(lpv))\n",
    "\n",
    "    ok = pv[lpv_sort] <= thr\n",
    "    \n",
    "    gene = asa([i[0] for i in df0.index.values[lpv_sort]])\n",
    "    intron = asa([i[1] for i in df0.index.values[lpv_sort]])\n",
    "    \n",
    "    source = ColumnDataSource(data=dict(\n",
    "        xname=expected_lpv[ok],\n",
    "        yname=lpv[lpv_sort][ok],\n",
    "        gene=gene[ok],\n",
    "        intron=intron[ok],\n",
    "        snp_id=df0['snp_id'][lpv_sort][ok],\n",
    "        pval=pv[lpv_sort][ok],\n",
    "        pos=df0['pos'][lpv_sort][ok]\n",
    "    ))\n",
    "    \n",
    "    p.circle('xname', 'yname', source=source, color=color,\n",
    "             fill_alpha=fill_alpha, line_width=0, line_color=None,\n",
    "            legend=method)\n",
    "    \n",
    "    mean = rank_confidence_band(len(lpv))\n",
    "    me = [-np.log10(m) for m in mean]\n",
    "    p.line([me[0], me[-1]], [me[0], me[-1]], color='black')\n",
    "    p.legend.location = 'top_left'\n",
    "    return p"
   ]
  },
  {
   "cell_type": "code",
   "execution_count": null,
   "metadata": {
    "collapsed": true
   },
   "outputs": [],
   "source": []
  },
  {
   "cell_type": "code",
   "execution_count": null,
   "metadata": {
    "collapsed": true
   },
   "outputs": [],
   "source": []
  },
  {
   "cell_type": "code",
   "execution_count": null,
   "metadata": {
    "collapsed": true
   },
   "outputs": [],
   "source": []
  },
  {
   "cell_type": "code",
   "execution_count": null,
   "metadata": {
    "collapsed": true
   },
   "outputs": [],
   "source": []
  },
  {
   "cell_type": "code",
   "execution_count": null,
   "metadata": {
    "collapsed": true
   },
   "outputs": [],
   "source": []
  },
  {
   "cell_type": "code",
   "execution_count": null,
   "metadata": {
    "collapsed": true
   },
   "outputs": [],
   "source": []
  },
  {
   "cell_type": "code",
   "execution_count": null,
   "metadata": {
    "collapsed": true
   },
   "outputs": [],
   "source": []
  },
  {
   "cell_type": "code",
   "execution_count": null,
   "metadata": {
    "collapsed": true
   },
   "outputs": [],
   "source": []
  }
 ],
 "metadata": {
  "kernelspec": {
   "display_name": "Python [conda env:default]",
   "language": "python",
   "name": "conda-env-default-py"
  },
  "language_info": {
   "codemirror_mode": {
    "name": "ipython",
    "version": 3
   },
   "file_extension": ".py",
   "mimetype": "text/x-python",
   "name": "python",
   "nbconvert_exporter": "python",
   "pygments_lexer": "ipython3",
   "version": "3.5.2"
  }
 },
 "nbformat": 4,
 "nbformat_minor": 2
}
